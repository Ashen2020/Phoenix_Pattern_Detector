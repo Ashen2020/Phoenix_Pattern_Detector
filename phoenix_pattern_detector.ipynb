{
  "cells": [
    {
      "cell_type": "markdown",
      "metadata": {
        "id": "jptaGq3k1L0c"
      },
      "source": [
        "# Chart Patter Identifier"
      ]
    },
    {
      "cell_type": "markdown",
      "metadata": {
        "id": "aYQAC9gW0m6V"
      },
      "source": [
        "\n",
        "## Model Training"
      ]
    },
    {
      "cell_type": "markdown",
      "metadata": {
        "id": "CshxuGBg02Be"
      },
      "source": [
        "Download and extract the dataset"
      ]
    },
    {
      "cell_type": "code",
      "execution_count": 1,
      "metadata": {
        "colab": {
          "base_uri": "https://localhost:8080/"
        },
        "id": "LN1ELDdD0vY1",
        "outputId": "5b3251ff-6c51-4313-db74-5fbef493bb99"
      },
      "outputs": [
        {
          "output_type": "stream",
          "name": "stdout",
          "text": [
            "/usr/local/lib/python3.10/dist-packages/gdown/cli.py:121: FutureWarning: Option `--id` was deprecated in version 4.3.1 and will be removed in 5.0. You don't need to pass it anymore to use a file ID.\n",
            "  warnings.warn(\n",
            "Downloading...\n",
            "From: https://drive.google.com/uc?id=15Da_awL5sYsOwBNcjVucYBazEoQmaTbQ\n",
            "To: /content/DATASET.zip\n",
            "100% 3.65M/3.65M [00:00<00:00, 22.3MB/s]\n"
          ]
        }
      ],
      "source": [
        "!gdown --id 15Da_awL5sYsOwBNcjVucYBazEoQmaTbQ\n"
      ]
    },
    {
      "cell_type": "code",
      "execution_count": 2,
      "metadata": {
        "colab": {
          "base_uri": "https://localhost:8080/"
        },
        "id": "85ra2G-GrfMx",
        "outputId": "c873a282-3f89-49f8-a1fe-f9e5787b1ccf"
      },
      "outputs": [
        {
          "output_type": "stream",
          "name": "stdout",
          "text": [
            "Archive:  DATASET.zip\n",
            "   creating: DATASET/\n",
            "   creating: DATASET/output/\n",
            "  inflating: DATASET/output/Ascending_Triangle.png  \n",
            "  inflating: DATASET/output/Descending_Triangle.png  \n",
            "  inflating: DATASET/output/DoubleBottom_Traingle.png  \n",
            "  inflating: DATASET/output/DoubleTop_Triangle.png  \n",
            "  inflating: DATASET/output/FallingWedge_Triangle.png  \n",
            "  inflating: DATASET/output/RisingWedge_Triangle.png  \n",
            "  inflating: DATASET/output/Symmetrical_Triangle.png  \n",
            "   creating: DATASET/train_set/\n",
            "   creating: DATASET/train_set/Ascending_Triangle/\n",
            "  inflating: DATASET/train_set/Ascending_Triangle/AT_01.jpg  \n",
            "  inflating: DATASET/train_set/Ascending_Triangle/AT_02.jpg  \n",
            "  inflating: DATASET/train_set/Ascending_Triangle/AT_03.jpg  \n",
            "  inflating: DATASET/train_set/Ascending_Triangle/AT_04.jpg  \n",
            "  inflating: DATASET/train_set/Ascending_Triangle/AT_05.jpg  \n",
            "  inflating: DATASET/train_set/Ascending_Triangle/AT_06.jpg  \n",
            "  inflating: DATASET/train_set/Ascending_Triangle/AT_07.jpg  \n",
            "  inflating: DATASET/train_set/Ascending_Triangle/AT_08.jpg  \n",
            "  inflating: DATASET/train_set/Ascending_Triangle/AT_09.jpg  \n",
            "  inflating: DATASET/train_set/Ascending_Triangle/AT_10.jpg  \n",
            "  inflating: DATASET/train_set/Ascending_Triangle/AT_11.jpg  \n",
            "  inflating: DATASET/train_set/Ascending_Triangle/AT_12.jpg  \n",
            "  inflating: DATASET/train_set/Ascending_Triangle/AT_13.jpg  \n",
            "  inflating: DATASET/train_set/Ascending_Triangle/AT_14.jpg  \n",
            "  inflating: DATASET/train_set/Ascending_Triangle/AT_15.jpg  \n",
            "  inflating: DATASET/train_set/Ascending_Triangle/AT_16.jpg  \n",
            "  inflating: DATASET/train_set/Ascending_Triangle/AT_17.jpg  \n",
            "  inflating: DATASET/train_set/Ascending_Triangle/AT_18.jpg  \n",
            "  inflating: DATASET/train_set/Ascending_Triangle/AT_19.jpg  \n",
            "  inflating: DATASET/train_set/Ascending_Triangle/AT_20.jpg  \n",
            "  inflating: DATASET/train_set/Ascending_Triangle/AT_21.jpg  \n",
            "  inflating: DATASET/train_set/Ascending_Triangle/AT_22.jpg  \n",
            "  inflating: DATASET/train_set/Ascending_Triangle/AT_23.jpg  \n",
            "  inflating: DATASET/train_set/Ascending_Triangle/AT_24.jpg  \n",
            "  inflating: DATASET/train_set/Ascending_Triangle/AT_25.jpg  \n",
            "  inflating: DATASET/train_set/Ascending_Triangle/AT_26.jpg  \n",
            "  inflating: DATASET/train_set/Ascending_Triangle/AT_27.jpg  \n",
            "  inflating: DATASET/train_set/Ascending_Triangle/AT_28.jpg  \n",
            "  inflating: DATASET/train_set/Ascending_Triangle/AT_29.jpg  \n",
            "  inflating: DATASET/train_set/Ascending_Triangle/AT_30.jpg  \n",
            "   creating: DATASET/train_set/Descending_Triangle/\n",
            "  inflating: DATASET/train_set/Descending_Triangle/DT_01.jpg  \n",
            "  inflating: DATASET/train_set/Descending_Triangle/DT_012.jpg  \n",
            "  inflating: DATASET/train_set/Descending_Triangle/DT_02.jpg  \n",
            "  inflating: DATASET/train_set/Descending_Triangle/DT_03.jpg  \n",
            "  inflating: DATASET/train_set/Descending_Triangle/DT_04.jpg  \n",
            "  inflating: DATASET/train_set/Descending_Triangle/DT_05.jpg  \n",
            "  inflating: DATASET/train_set/Descending_Triangle/DT_06.jpg  \n",
            "  inflating: DATASET/train_set/Descending_Triangle/DT_07.jpg  \n",
            "  inflating: DATASET/train_set/Descending_Triangle/DT_10.jpg  \n",
            "  inflating: DATASET/train_set/Descending_Triangle/DT_11.jpg  \n",
            "  inflating: DATASET/train_set/Descending_Triangle/DT_13.jpg  \n",
            "  inflating: DATASET/train_set/Descending_Triangle/DT_14.jpg  \n",
            "  inflating: DATASET/train_set/Descending_Triangle/DT_15.jpg  \n",
            "  inflating: DATASET/train_set/Descending_Triangle/DT_16.jpg  \n",
            "  inflating: DATASET/train_set/Descending_Triangle/DT_17.jpg  \n",
            "  inflating: DATASET/train_set/Descending_Triangle/DT_18.jpg  \n",
            "  inflating: DATASET/train_set/Descending_Triangle/DT_19.jpg  \n",
            "  inflating: DATASET/train_set/Descending_Triangle/DT_20.jpg  \n",
            "  inflating: DATASET/train_set/Descending_Triangle/DT_21.jpg  \n",
            "  inflating: DATASET/train_set/Descending_Triangle/DT_22.jpg  \n",
            "  inflating: DATASET/train_set/Descending_Triangle/DT_23.jpg  \n",
            "  inflating: DATASET/train_set/Descending_Triangle/DT_24.jpg  \n",
            "  inflating: DATASET/train_set/Descending_Triangle/DT_25.jpg  \n",
            "  inflating: DATASET/train_set/Descending_Triangle/DT_26.jpg  \n",
            "  inflating: DATASET/train_set/Descending_Triangle/DT_27.jpg  \n",
            "  inflating: DATASET/train_set/Descending_Triangle/DT_28.jpg  \n",
            "  inflating: DATASET/train_set/Descending_Triangle/DT_29.jpg  \n",
            "  inflating: DATASET/train_set/Descending_Triangle/DT_30.jpg  \n",
            "  inflating: DATASET/train_set/Descending_Triangle/DT_8.jpg  \n",
            "  inflating: DATASET/train_set/Descending_Triangle/DT_9.jpg  \n",
            "   creating: DATASET/train_set/Double_Bottom/\n",
            "  inflating: DATASET/train_set/Double_Bottom/DB_01.jpg  \n",
            "  inflating: DATASET/train_set/Double_Bottom/DB_02.jpg  \n",
            "  inflating: DATASET/train_set/Double_Bottom/DB_03.jpg  \n",
            "  inflating: DATASET/train_set/Double_Bottom/DB_04.jpg  \n",
            "  inflating: DATASET/train_set/Double_Bottom/DB_05.jpg  \n",
            "  inflating: DATASET/train_set/Double_Bottom/DB_06.jpg  \n",
            "  inflating: DATASET/train_set/Double_Bottom/DB_07.jpg  \n",
            "  inflating: DATASET/train_set/Double_Bottom/DB_08.jpg  \n",
            "  inflating: DATASET/train_set/Double_Bottom/DB_09.jpg  \n",
            "  inflating: DATASET/train_set/Double_Bottom/DB_10.jpg  \n",
            "  inflating: DATASET/train_set/Double_Bottom/DB_11.jpg  \n",
            "  inflating: DATASET/train_set/Double_Bottom/DB_12.jpg  \n",
            "  inflating: DATASET/train_set/Double_Bottom/DB_13.jpg  \n",
            "  inflating: DATASET/train_set/Double_Bottom/DB_14.jpg  \n",
            "  inflating: DATASET/train_set/Double_Bottom/DB_15.jpg  \n",
            "  inflating: DATASET/train_set/Double_Bottom/DB_16.jpg  \n",
            "  inflating: DATASET/train_set/Double_Bottom/DB_17.jpg  \n",
            "  inflating: DATASET/train_set/Double_Bottom/DB_18.jpg  \n",
            "  inflating: DATASET/train_set/Double_Bottom/DB_19.jpg  \n",
            "  inflating: DATASET/train_set/Double_Bottom/DB_20.jpg  \n",
            "  inflating: DATASET/train_set/Double_Bottom/DB_21.jpg  \n",
            "  inflating: DATASET/train_set/Double_Bottom/DB_22.jpg  \n",
            "  inflating: DATASET/train_set/Double_Bottom/DB_23.jpg  \n",
            "  inflating: DATASET/train_set/Double_Bottom/DB_24.jpg  \n",
            "  inflating: DATASET/train_set/Double_Bottom/DB_25.jpg  \n",
            "  inflating: DATASET/train_set/Double_Bottom/DB_26.jpg  \n",
            "  inflating: DATASET/train_set/Double_Bottom/DB_27.jpg  \n",
            "  inflating: DATASET/train_set/Double_Bottom/DB_28.jpg  \n",
            "  inflating: DATASET/train_set/Double_Bottom/DB_29.jpg  \n",
            "  inflating: DATASET/train_set/Double_Bottom/DB_30.jpg  \n",
            "   creating: DATASET/train_set/Double_Top/\n",
            "  inflating: DATASET/train_set/Double_Top/DT_01.jpg  \n",
            "  inflating: DATASET/train_set/Double_Top/DT_02.jpg  \n",
            "  inflating: DATASET/train_set/Double_Top/DT_03.jpg  \n",
            "  inflating: DATASET/train_set/Double_Top/DT_04.jpg  \n",
            "  inflating: DATASET/train_set/Double_Top/DT_05.jpg  \n",
            "  inflating: DATASET/train_set/Double_Top/DT_06.jpg  \n",
            "  inflating: DATASET/train_set/Double_Top/DT_07.jpg  \n",
            "  inflating: DATASET/train_set/Double_Top/DT_08.jpg  \n",
            "  inflating: DATASET/train_set/Double_Top/DT_09.jpg  \n",
            "  inflating: DATASET/train_set/Double_Top/DT_10.jpg  \n",
            "  inflating: DATASET/train_set/Double_Top/DT_11.jpg  \n",
            "  inflating: DATASET/train_set/Double_Top/DT_12.jpg  \n",
            "  inflating: DATASET/train_set/Double_Top/DT_13.jpg  \n",
            "  inflating: DATASET/train_set/Double_Top/DT_14.jpg  \n",
            "  inflating: DATASET/train_set/Double_Top/DT_15.jpg  \n",
            "  inflating: DATASET/train_set/Double_Top/DT_16.jpg  \n",
            "  inflating: DATASET/train_set/Double_Top/DT_17.jpg  \n",
            "  inflating: DATASET/train_set/Double_Top/DT_18.jpg  \n",
            "  inflating: DATASET/train_set/Double_Top/DT_19.jpg  \n",
            "  inflating: DATASET/train_set/Double_Top/DT_20.jpg  \n",
            "  inflating: DATASET/train_set/Double_Top/DT_21.jpg  \n",
            "  inflating: DATASET/train_set/Double_Top/DT_22.jpg  \n",
            "  inflating: DATASET/train_set/Double_Top/DT_23.jpg  \n",
            "  inflating: DATASET/train_set/Double_Top/DT_24.jpg  \n",
            "  inflating: DATASET/train_set/Double_Top/DT_25.jpg  \n",
            "  inflating: DATASET/train_set/Double_Top/DT_26.jpg  \n",
            "  inflating: DATASET/train_set/Double_Top/DT_27.jpg  \n",
            "  inflating: DATASET/train_set/Double_Top/DT_28.jpg  \n",
            "  inflating: DATASET/train_set/Double_Top/DT_29.jpg  \n",
            "  inflating: DATASET/train_set/Double_Top/DT_30.jpg  \n",
            "   creating: DATASET/train_set/Falling_Wedge/\n",
            "  inflating: DATASET/train_set/Falling_Wedge/FW_01.jpg  \n",
            "  inflating: DATASET/train_set/Falling_Wedge/FW_02.jpg  \n",
            "  inflating: DATASET/train_set/Falling_Wedge/FW_03.jpg  \n",
            "  inflating: DATASET/train_set/Falling_Wedge/FW_04.jpg  \n",
            "  inflating: DATASET/train_set/Falling_Wedge/FW_05.jpg  \n",
            "  inflating: DATASET/train_set/Falling_Wedge/FW_06.jpg  \n",
            "  inflating: DATASET/train_set/Falling_Wedge/FW_07.jpg  \n",
            "  inflating: DATASET/train_set/Falling_Wedge/FW_08.jpg  \n",
            "  inflating: DATASET/train_set/Falling_Wedge/FW_09.jpg  \n",
            "  inflating: DATASET/train_set/Falling_Wedge/FW_10.jpg  \n",
            "  inflating: DATASET/train_set/Falling_Wedge/FW_11.jpg  \n",
            "  inflating: DATASET/train_set/Falling_Wedge/FW_12.jpg  \n",
            "  inflating: DATASET/train_set/Falling_Wedge/FW_13.jpg  \n",
            "  inflating: DATASET/train_set/Falling_Wedge/FW_14.jpg  \n",
            "  inflating: DATASET/train_set/Falling_Wedge/FW_15.jpg  \n",
            "  inflating: DATASET/train_set/Falling_Wedge/FW_16.jpg  \n",
            "  inflating: DATASET/train_set/Falling_Wedge/FW_17.jpg  \n",
            "  inflating: DATASET/train_set/Falling_Wedge/FW_18.jpg  \n",
            "  inflating: DATASET/train_set/Falling_Wedge/FW_19.jpg  \n",
            "  inflating: DATASET/train_set/Falling_Wedge/FW_20.jpg  \n",
            "  inflating: DATASET/train_set/Falling_Wedge/FW_21.jpg  \n",
            "  inflating: DATASET/train_set/Falling_Wedge/FW_22.jpg  \n",
            "  inflating: DATASET/train_set/Falling_Wedge/FW_23.jpg  \n",
            "  inflating: DATASET/train_set/Falling_Wedge/FW_24.jpg  \n",
            "  inflating: DATASET/train_set/Falling_Wedge/FW_25.jpg  \n",
            "  inflating: DATASET/train_set/Falling_Wedge/FW_26.jpg  \n",
            "  inflating: DATASET/train_set/Falling_Wedge/FW_27.jpg  \n",
            "  inflating: DATASET/train_set/Falling_Wedge/FW_28.jpg  \n",
            "  inflating: DATASET/train_set/Falling_Wedge/FW_29.jpg  \n",
            "  inflating: DATASET/train_set/Falling_Wedge/FW_30.jpg  \n",
            "   creating: DATASET/train_set/Rising_Wedge/\n",
            "  inflating: DATASET/train_set/Rising_Wedge/RW_01.jpg  \n",
            "  inflating: DATASET/train_set/Rising_Wedge/RW_02.jpg  \n",
            "  inflating: DATASET/train_set/Rising_Wedge/RW_03.jpg  \n",
            "  inflating: DATASET/train_set/Rising_Wedge/RW_04.jpg  \n",
            "  inflating: DATASET/train_set/Rising_Wedge/RW_05.jpg  \n",
            "  inflating: DATASET/train_set/Rising_Wedge/RW_06.jpg  \n",
            "  inflating: DATASET/train_set/Rising_Wedge/RW_07.jpg  \n",
            "  inflating: DATASET/train_set/Rising_Wedge/RW_08.jpg  \n",
            "  inflating: DATASET/train_set/Rising_Wedge/RW_09.jpg  \n",
            "  inflating: DATASET/train_set/Rising_Wedge/RW_10.jpg  \n",
            "  inflating: DATASET/train_set/Rising_Wedge/RW_11.jpg  \n",
            "  inflating: DATASET/train_set/Rising_Wedge/RW_12.jpg  \n",
            "  inflating: DATASET/train_set/Rising_Wedge/RW_13.jpg  \n",
            "  inflating: DATASET/train_set/Rising_Wedge/RW_14.jpg  \n",
            "  inflating: DATASET/train_set/Rising_Wedge/RW_15.jpg  \n",
            "  inflating: DATASET/train_set/Rising_Wedge/RW_16.jpg  \n",
            "  inflating: DATASET/train_set/Rising_Wedge/RW_17.jpg  \n",
            "  inflating: DATASET/train_set/Rising_Wedge/RW_18.jpg  \n",
            "  inflating: DATASET/train_set/Rising_Wedge/RW_19.jpg  \n",
            "  inflating: DATASET/train_set/Rising_Wedge/RW_20.jpg  \n",
            "  inflating: DATASET/train_set/Rising_Wedge/RW_21.jpg  \n",
            "  inflating: DATASET/train_set/Rising_Wedge/RW_22.jpg  \n",
            "  inflating: DATASET/train_set/Rising_Wedge/RW_23.jpg  \n",
            "  inflating: DATASET/train_set/Rising_Wedge/RW_24.jpg  \n",
            "  inflating: DATASET/train_set/Rising_Wedge/RW_25.jpg  \n",
            "  inflating: DATASET/train_set/Rising_Wedge/RW_26.jpg  \n",
            "  inflating: DATASET/train_set/Rising_Wedge/RW_27.jpg  \n",
            "  inflating: DATASET/train_set/Rising_Wedge/RW_28.jpg  \n",
            "  inflating: DATASET/train_set/Rising_Wedge/RW_29.jpg  \n",
            "  inflating: DATASET/train_set/Rising_Wedge/RW_30.jpg  \n",
            "   creating: DATASET/train_set/Symmetrical_Triangle/\n",
            "  inflating: DATASET/train_set/Symmetrical_Triangle/ST_01.jpg  \n",
            "  inflating: DATASET/train_set/Symmetrical_Triangle/ST_010.jpg  \n",
            "  inflating: DATASET/train_set/Symmetrical_Triangle/ST_02.jpg  \n",
            "  inflating: DATASET/train_set/Symmetrical_Triangle/ST_03.jpg  \n",
            "  inflating: DATASET/train_set/Symmetrical_Triangle/ST_04.jpg  \n",
            "  inflating: DATASET/train_set/Symmetrical_Triangle/ST_05.jpg  \n",
            "  inflating: DATASET/train_set/Symmetrical_Triangle/ST_06.jpg  \n",
            "  inflating: DATASET/train_set/Symmetrical_Triangle/ST_07.jpg  \n",
            "  inflating: DATASET/train_set/Symmetrical_Triangle/ST_08.jpg  \n",
            "  inflating: DATASET/train_set/Symmetrical_Triangle/ST_09.jpg  \n",
            "  inflating: DATASET/train_set/Symmetrical_Triangle/ST_11.jpg  \n",
            "  inflating: DATASET/train_set/Symmetrical_Triangle/ST_12.jpg  \n",
            "  inflating: DATASET/train_set/Symmetrical_Triangle/ST_13.jpg  \n",
            "  inflating: DATASET/train_set/Symmetrical_Triangle/ST_14.jpg  \n",
            "  inflating: DATASET/train_set/Symmetrical_Triangle/ST_15.jpg  \n",
            "  inflating: DATASET/train_set/Symmetrical_Triangle/ST_16.jpg  \n",
            "  inflating: DATASET/train_set/Symmetrical_Triangle/ST_17.jpg  \n",
            "  inflating: DATASET/train_set/Symmetrical_Triangle/ST_18.jpg  \n",
            "  inflating: DATASET/train_set/Symmetrical_Triangle/ST_19.jpg  \n",
            "  inflating: DATASET/train_set/Symmetrical_Triangle/ST_20.jpg  \n",
            "  inflating: DATASET/train_set/Symmetrical_Triangle/ST_21.jpg  \n",
            "  inflating: DATASET/train_set/Symmetrical_Triangle/ST_22.jpg  \n",
            "  inflating: DATASET/train_set/Symmetrical_Triangle/ST_23.jpg  \n",
            "  inflating: DATASET/train_set/Symmetrical_Triangle/ST_24.jpg  \n",
            "  inflating: DATASET/train_set/Symmetrical_Triangle/ST_25.jpg  \n",
            "  inflating: DATASET/train_set/Symmetrical_Triangle/ST_26.jpg  \n",
            "  inflating: DATASET/train_set/Symmetrical_Triangle/ST_27.jpg  \n",
            "  inflating: DATASET/train_set/Symmetrical_Triangle/ST_28.jpg  \n",
            "  inflating: DATASET/train_set/Symmetrical_Triangle/ST_29.jpg  \n",
            "  inflating: DATASET/train_set/Symmetrical_Triangle/ST_30.jpg  \n",
            "   creating: DATASET/val_set/\n",
            "   creating: DATASET/val_set/Ascending_Triangle/\n",
            "  inflating: DATASET/val_set/Ascending_Triangle/AT_21.jpg  \n",
            "  inflating: DATASET/val_set/Ascending_Triangle/AT_22.jpg  \n",
            "  inflating: DATASET/val_set/Ascending_Triangle/AT_23.jpg  \n",
            "  inflating: DATASET/val_set/Ascending_Triangle/AT_24.jpg  \n",
            "  inflating: DATASET/val_set/Ascending_Triangle/AT_25.jpg  \n",
            "  inflating: DATASET/val_set/Ascending_Triangle/AT_26.jpg  \n",
            "  inflating: DATASET/val_set/Ascending_Triangle/AT_27.jpg  \n",
            "  inflating: DATASET/val_set/Ascending_Triangle/AT_28.jpg  \n",
            "  inflating: DATASET/val_set/Ascending_Triangle/AT_29.jpg  \n",
            "  inflating: DATASET/val_set/Ascending_Triangle/AT_30.jpg  \n",
            "   creating: DATASET/val_set/Descending_Triangle/\n",
            "  inflating: DATASET/val_set/Descending_Triangle/DT_21.jpg  \n",
            "  inflating: DATASET/val_set/Descending_Triangle/DT_22.jpg  \n",
            "  inflating: DATASET/val_set/Descending_Triangle/DT_23.jpg  \n",
            "  inflating: DATASET/val_set/Descending_Triangle/DT_24.jpg  \n",
            "  inflating: DATASET/val_set/Descending_Triangle/DT_25.jpg  \n",
            "  inflating: DATASET/val_set/Descending_Triangle/DT_26.jpg  \n",
            "  inflating: DATASET/val_set/Descending_Triangle/DT_27.jpg  \n",
            "  inflating: DATASET/val_set/Descending_Triangle/DT_28.jpg  \n",
            "  inflating: DATASET/val_set/Descending_Triangle/DT_29.jpg  \n",
            "  inflating: DATASET/val_set/Descending_Triangle/DT_30.jpg  \n",
            "   creating: DATASET/val_set/Double_Bottom/\n",
            "  inflating: DATASET/val_set/Double_Bottom/DB_21.jpg  \n",
            "  inflating: DATASET/val_set/Double_Bottom/DB_22.jpg  \n",
            "  inflating: DATASET/val_set/Double_Bottom/DB_23.jpg  \n",
            "  inflating: DATASET/val_set/Double_Bottom/DB_24.jpg  \n",
            "  inflating: DATASET/val_set/Double_Bottom/DB_25.jpg  \n",
            "  inflating: DATASET/val_set/Double_Bottom/DB_26.jpg  \n",
            "  inflating: DATASET/val_set/Double_Bottom/DB_27.jpg  \n",
            "  inflating: DATASET/val_set/Double_Bottom/DB_28.jpg  \n",
            "  inflating: DATASET/val_set/Double_Bottom/DB_29.jpg  \n",
            "  inflating: DATASET/val_set/Double_Bottom/DB_30.jpg  \n",
            "   creating: DATASET/val_set/Double_Top/\n",
            "  inflating: DATASET/val_set/Double_Top/DT_21.jpg  \n",
            "  inflating: DATASET/val_set/Double_Top/DT_22.jpg  \n",
            "  inflating: DATASET/val_set/Double_Top/DT_23.jpg  \n",
            "  inflating: DATASET/val_set/Double_Top/DT_24.jpg  \n",
            "  inflating: DATASET/val_set/Double_Top/DT_25.jpg  \n",
            "  inflating: DATASET/val_set/Double_Top/DT_26.jpg  \n",
            "  inflating: DATASET/val_set/Double_Top/DT_27.jpg  \n",
            "  inflating: DATASET/val_set/Double_Top/DT_28.jpg  \n",
            "  inflating: DATASET/val_set/Double_Top/DT_29.jpg  \n",
            "  inflating: DATASET/val_set/Double_Top/DT_30.jpg  \n",
            "   creating: DATASET/val_set/Falling_Wedge/\n",
            "  inflating: DATASET/val_set/Falling_Wedge/FW_21.jpg  \n",
            "  inflating: DATASET/val_set/Falling_Wedge/FW_22.jpg  \n",
            "  inflating: DATASET/val_set/Falling_Wedge/FW_23.jpg  \n",
            "  inflating: DATASET/val_set/Falling_Wedge/FW_24.jpg  \n",
            "  inflating: DATASET/val_set/Falling_Wedge/FW_25.jpg  \n",
            "  inflating: DATASET/val_set/Falling_Wedge/FW_26.jpg  \n",
            "  inflating: DATASET/val_set/Falling_Wedge/FW_27.jpg  \n",
            "  inflating: DATASET/val_set/Falling_Wedge/FW_28.jpg  \n",
            "  inflating: DATASET/val_set/Falling_Wedge/FW_29.jpg  \n",
            "  inflating: DATASET/val_set/Falling_Wedge/FW_30.jpg  \n",
            "   creating: DATASET/val_set/Rising_Wedge/\n",
            "  inflating: DATASET/val_set/Rising_Wedge/RW_21.jpg  \n",
            "  inflating: DATASET/val_set/Rising_Wedge/RW_22.jpg  \n",
            "  inflating: DATASET/val_set/Rising_Wedge/RW_23.jpg  \n",
            "  inflating: DATASET/val_set/Rising_Wedge/RW_24.jpg  \n",
            "  inflating: DATASET/val_set/Rising_Wedge/RW_25.jpg  \n",
            "  inflating: DATASET/val_set/Rising_Wedge/RW_26.jpg  \n",
            "  inflating: DATASET/val_set/Rising_Wedge/RW_27.jpg  \n",
            "  inflating: DATASET/val_set/Rising_Wedge/RW_28.jpg  \n",
            "  inflating: DATASET/val_set/Rising_Wedge/RW_29.jpg  \n",
            "  inflating: DATASET/val_set/Rising_Wedge/RW_30.jpg  \n",
            "   creating: DATASET/val_set/Symmetrical_Triangle/\n",
            "  inflating: DATASET/val_set/Symmetrical_Triangle/ST_21.jpg  \n",
            "  inflating: DATASET/val_set/Symmetrical_Triangle/ST_22.jpg  \n",
            "  inflating: DATASET/val_set/Symmetrical_Triangle/ST_23.jpg  \n",
            "  inflating: DATASET/val_set/Symmetrical_Triangle/ST_24.jpg  \n",
            "  inflating: DATASET/val_set/Symmetrical_Triangle/ST_25.jpg  \n",
            "  inflating: DATASET/val_set/Symmetrical_Triangle/ST_26.jpg  \n",
            "  inflating: DATASET/val_set/Symmetrical_Triangle/ST_27.jpg  \n",
            "  inflating: DATASET/val_set/Symmetrical_Triangle/ST_28.jpg  \n",
            "  inflating: DATASET/val_set/Symmetrical_Triangle/ST_29.jpg  \n",
            "  inflating: DATASET/val_set/Symmetrical_Triangle/ST_30.jpg  \n"
          ]
        }
      ],
      "source": [
        "!unzip DATASET.zip\n"
      ]
    },
    {
      "cell_type": "markdown",
      "metadata": {
        "id": "_yzp6S_t1AE8"
      },
      "source": [
        "Verify that the data is there"
      ]
    },
    {
      "cell_type": "code",
      "execution_count": 3,
      "metadata": {
        "id": "HLIwYy7orqZu"
      },
      "outputs": [],
      "source": [
        "from PIL import Image\n",
        "from IPython.display import display"
      ]
    },
    {
      "cell_type": "code",
      "execution_count": 4,
      "metadata": {
        "id": "WAXUx0sjrvdm"
      },
      "outputs": [],
      "source": [
        "im = Image.open('DATASET/train_set/Ascending_Triangle/AT_01.jpg')"
      ]
    },
    {
      "cell_type": "code",
      "execution_count": 5,
      "metadata": {
        "colab": {
          "base_uri": "https://localhost:8080/"
        },
        "id": "9wSG7q88Bokc",
        "outputId": "fc52751d-01a4-4553-8150-10190f6e5eff"
      },
      "outputs": [
        {
          "output_type": "stream",
          "name": "stdout",
          "text": [
            "Collecting tensorboardcolab\n",
            "  Downloading tensorboardcolab-0.0.22.tar.gz (2.5 kB)\n",
            "  Preparing metadata (setup.py) ... \u001b[?25l\u001b[?25hdone\n",
            "Building wheels for collected packages: tensorboardcolab\n",
            "  Building wheel for tensorboardcolab (setup.py) ... \u001b[?25l\u001b[?25hdone\n",
            "  Created wheel for tensorboardcolab: filename=tensorboardcolab-0.0.22-py3-none-any.whl size=3834 sha256=1e3dca04678689cb8a6727f36f1f436692e95cb8a2f2859a86892565653b4338\n",
            "  Stored in directory: /root/.cache/pip/wheels/8d/ee/46/7fe2bbbf1edbcfeabfaf13962dcaadec1f631d11147fd9d34d\n",
            "Successfully built tensorboardcolab\n",
            "Installing collected packages: tensorboardcolab\n",
            "Successfully installed tensorboardcolab-0.0.22\n"
          ]
        }
      ],
      "source": [
        "!pip install tensorboardcolab"
      ]
    },
    {
      "cell_type": "code",
      "execution_count": 6,
      "metadata": {
        "colab": {
          "base_uri": "https://localhost:8080/",
          "height": 202
        },
        "id": "KIKx04SVr3tO",
        "outputId": "a09ae610-c8c5-494b-b632-c5dc79a6dd2b"
      },
      "outputs": [
        {
          "output_type": "display_data",
          "data": {
            "text/plain": [
              "<PIL.JpegImagePlugin.JpegImageFile image mode=RGB size=223x185>"
            ],
            "image/png": "[encoded data removed]"
          },
          "metadata": {}
        }
      ],
      "source": [
        "display(im)"
      ]
    },
    {
      "cell_type": "code",
      "execution_count": 7,
      "metadata": {
        "colab": {
          "base_uri": "https://localhost:8080/"
        },
        "id": "8P2aTOywSZow",
        "outputId": "ca6e8b0f-6b13-4554-80ae-59719e578cb8"
      },
      "outputs": [
        {
          "output_type": "execute_result",
          "data": {
            "text/plain": [
              "array([[[255, 255, 255],\n",
              "        [255, 255, 255],\n",
              "        [255, 255, 255],\n",
              "        ...,\n",
              "        [255, 255, 255],\n",
              "        [255, 255, 255],\n",
              "        [255, 255, 255]],\n",
              "\n",
              "       [[255, 255, 255],\n",
              "        [255, 255, 255],\n",
              "        [255, 255, 255],\n",
              "        ...,\n",
              "        [255, 255, 255],\n",
              "        [255, 255, 255],\n",
              "        [255, 255, 255]],\n",
              "\n",
              "       [[255, 255, 255],\n",
              "        [255, 255, 255],\n",
              "        [255, 255, 255],\n",
              "        ...,\n",
              "        [255, 255, 255],\n",
              "        [255, 255, 255],\n",
              "        [255, 255, 255]],\n",
              "\n",
              "       ...,\n",
              "\n",
              "       [[255, 255, 255],\n",
              "        [255, 255, 255],\n",
              "        [255, 255, 255],\n",
              "        ...,\n",
              "        [255, 255, 255],\n",
              "        [255, 255, 255],\n",
              "        [255, 255, 255]],\n",
              "\n",
              "       [[255, 255, 255],\n",
              "        [255, 255, 255],\n",
              "        [255, 255, 255],\n",
              "        ...,\n",
              "        [255, 255, 255],\n",
              "        [255, 255, 255],\n",
              "        [255, 255, 255]],\n",
              "\n",
              "       [[255, 255, 255],\n",
              "        [255, 255, 255],\n",
              "        [255, 255, 255],\n",
              "        ...,\n",
              "        [255, 255, 255],\n",
              "        [255, 255, 255],\n",
              "        [255, 255, 255]]], dtype=uint8)"
            ]
          },
          "metadata": {},
          "execution_count": 7
        }
      ],
      "source": [
        "import numpy as np\n",
        "image_arr = np.array(im)\n",
        "image_arr.shape\n",
        "image_arr"
      ]
    },
    {
      "cell_type": "markdown",
      "metadata": {
        "id": "LHaCWgqe1Gpl"
      },
      "source": [
        "## Module import and variable initialization\n"
      ]
    },
    {
      "cell_type": "code",
      "execution_count": 8,
      "metadata": {
        "id": "g1NLl0zpr5Em"
      },
      "outputs": [],
      "source": [
        "import numpy as np\n",
        "import tensorflow as tf\n",
        "from tensorflow import keras\n",
        "from tensorflow.keras import layers\n",
        "from tensorboardcolab import TensorBoardColab, TensorBoardColabCallback\n",
        "from tensorflow.keras.preprocessing.image import ImageDataGenerator\n"
      ]
    },
    {
      "cell_type": "code",
      "execution_count": 9,
      "metadata": {
        "id": "XiQl7VpLugsV"
      },
      "outputs": [],
      "source": [
        "# dimensions of our images.\n",
        "img_width, img_height = 128, 128"
      ]
    },
    {
      "cell_type": "code",
      "execution_count": 10,
      "metadata": {
        "id": "FFZy9cjzuniD"
      },
      "outputs": [],
      "source": [
        "train_data_dir = 'DATASET/train_set'\n",
        "validation_data_dir = 'DATASET/val_set'\n",
        "nb_train_samples = 140\n",
        "nb_validation_samples = 70\n",
        "epochs = 50\n",
        "batch_size = 32"
      ]
    },
    {
      "cell_type": "markdown",
      "metadata": {
        "id": "jXb7swv01guk"
      },
      "source": [
        "## Building the CNN model"
      ]
    },
    {
      "cell_type": "code",
      "execution_count": 11,
      "metadata": {
        "id": "6_esG1GhmtT1"
      },
      "outputs": [],
      "source": [
        "#New Tensorflow model\n",
        "input_shape = (img_width, img_height, 3)\n",
        "model = tf.keras.Sequential()\n",
        "model.add(tf.keras.layers.Conv2D(32, (3, 3),activation='relu',input_shape=input_shape))\n",
        "model.add(tf.keras.layers.MaxPool2D(pool_size=(2, 2)))\n",
        "model.add(tf.keras.layers.Conv2D(32, (3, 3),activation='relu'))\n",
        "model.add(tf.keras.layers.MaxPool2D(pool_size=(2, 2)))\n",
        "model.add(tf.keras.layers.MaxPool2D(pool_size=(2, 2)))\n",
        "\n",
        "\n",
        "model.add(tf.keras.layers.Conv2D(64, (3, 3),activation='relu'))\n",
        "model.add(tf.keras.layers.MaxPool2D(pool_size=(2, 2)))\n",
        "\n",
        "model.add(tf.keras.layers.Flatten())\n",
        "model.add(tf.keras.layers.Dense(64,activation='relu'))\n",
        "\n",
        "\n",
        "d2 = tf.keras.layers.Dense(64,activation='relu')\n",
        "model.add(d2)\n",
        "\n",
        "model.add(tf.keras.layers.Dropout(0.5))\n",
        "d3 =  tf.keras.layers.Dense(7,activation='softmax')\n",
        "model.add(d3)\n",
        "\n",
        "\n",
        "model.add(tf.keras.layers.Dense(156, activation='relu'))\n",
        "model.add(tf.keras.layers.Dense(78, activation='relu'))\n",
        "model.add(tf.keras.layers.Dropout(0.5))\n",
        "model.add(tf.keras.layers.Dense(7, activation='softmax'))\n"
      ]
    },
    {
      "cell_type": "code",
      "execution_count": 12,
      "metadata": {
        "id": "smGkFRrluwiz"
      },
      "outputs": [],
      "source": [
        "model.compile(\n",
        "    loss='categorical_crossentropy',\n",
        "    optimizer='rmsprop',\n",
        "    metrics=['accuracy']\n",
        ")\n",
        "\n"
      ]
    },
    {
      "cell_type": "code",
      "execution_count": 13,
      "metadata": {
        "colab": {
          "base_uri": "https://localhost:8080/"
        },
        "id": "ah6cKvCVV9Am",
        "outputId": "bf21dd2c-a6ed-4d15-e85a-f517b85ae828"
      },
      "outputs": [
        {
          "output_type": "execute_result",
          "data": {
            "text/plain": [
              "(7,)"
            ]
          },
          "metadata": {},
          "execution_count": 13
        }
      ],
      "source": [
        "weights = d3.get_weights()\n",
        "weights[1].shape"
      ]
    },
    {
      "cell_type": "markdown",
      "metadata": {
        "id": "wAOwEYK74HT_"
      },
      "source": [
        "## Formatting data"
      ]
    },
    {
      "cell_type": "code",
      "execution_count": 14,
      "metadata": {
        "id": "EKx2PQ413iTg"
      },
      "outputs": [],
      "source": [
        "# this is the data augmentation configuration we will use for training\n",
        "train_datagen = ImageDataGenerator(\n",
        "    rescale=1. / 255,\n",
        "    shear_range=0.2,\n",
        "    zoom_range=0.2,\n",
        "    horizontal_flip=True,\n",
        "    rotation_range=20,\n",
        "    width_shift_range=0.2,\n",
        "    height_shift_range=0.2\n",
        ")"
      ]
    },
    {
      "cell_type": "code",
      "execution_count": 15,
      "metadata": {
        "colab": {
          "base_uri": "https://localhost:8080/"
        },
        "id": "7mlZi2E-u1xr",
        "outputId": "ccad99e2-6f83-4f07-ee9a-1fc7bc1fe703"
      },
      "outputs": [
        {
          "output_type": "stream",
          "name": "stdout",
          "text": [
            "Found 210 images belonging to 7 classes.\n",
            "Found 70 images belonging to 7 classes.\n"
          ]
        }
      ],
      "source": [
        "# this is the augmentation configuration we will use for testing:\n",
        "# only rescaling\n",
        "test_datagen = ImageDataGenerator(rescale=1. / 255)\n",
        "\n",
        "train_generator = train_datagen.flow_from_directory(\n",
        "    train_data_dir,\n",
        "    target_size=(img_width, img_height),\n",
        "    batch_size=batch_size,\n",
        "    class_mode='categorical'\n",
        ")\n",
        "\n",
        "validation_generator = test_datagen.flow_from_directory(\n",
        "    validation_data_dir,\n",
        "    target_size=(img_width, img_height),\n",
        "    batch_size=batch_size,\n",
        "    class_mode='categorical'\n",
        ")"
      ]
    },
    {
      "cell_type": "markdown",
      "metadata": {
        "id": "ahDZ1W-f1q_j"
      },
      "source": [
        "## Test the data feeders"
      ]
    },
    {
      "cell_type": "code",
      "execution_count": 16,
      "metadata": {
        "colab": {
          "base_uri": "https://localhost:8080/"
        },
        "id": "FtjB6g0B1uiz",
        "outputId": "a2047b02-12d4-401b-ba48-2d3d8df8a768"
      },
      "outputs": [
        {
          "output_type": "execute_result",
          "data": {
            "text/plain": [
              "array([0., 0., 0., 0., 1., 0., 0.], dtype=float32)"
            ]
          },
          "metadata": {},
          "execution_count": 16
        }
      ],
      "source": [
        "datum = next(train_generator)\n",
        "image_batch, label_batch = datum\n",
        "image_batch.shape\n",
        "k = 3\n",
        "image = image_batch[k, ...]\n",
        "label = label_batch[k, ...]\n",
        "\n",
        "label"
      ]
    },
    {
      "cell_type": "code",
      "execution_count": 17,
      "metadata": {
        "colab": {
          "base_uri": "https://localhost:8080/",
          "height": 145
        },
        "id": "ZlDeuyZA2FQr",
        "outputId": "03ef1a9f-075f-429f-9262-a7829f892779"
      },
      "outputs": [
        {
          "output_type": "display_data",
          "data": {
            "text/plain": [
              "<PIL.Image.Image image mode=RGB size=128x128>"
            ],
            "image/png": "[encoded data removed]"
          },
          "metadata": {}
        }
      ],
      "source": [
        "display(Image.fromarray((image * 255).astype(np.uint8)))"
      ]
    },
    {
      "cell_type": "code",
      "execution_count": 18,
      "metadata": {
        "colab": {
          "base_uri": "https://localhost:8080/"
        },
        "id": "rp2oU7j72hJK",
        "outputId": "162869c7-2254-465f-9226-a681fe10f341"
      },
      "outputs": [
        {
          "output_type": "execute_result",
          "data": {
            "text/plain": [
              "(32, 128, 128, 3)"
            ]
          },
          "metadata": {},
          "execution_count": 18
        }
      ],
      "source": [
        "image_batch.shape"
      ]
    },
    {
      "cell_type": "markdown",
      "metadata": {
        "id": "szCLmqdp4Xo3"
      },
      "source": [
        "## Train the model"
      ]
    },
    {
      "cell_type": "code",
      "execution_count": 19,
      "metadata": {
        "id": "0bM-VA2cu5Ky",
        "colab": {
          "base_uri": "https://localhost:8080/"
        },
        "outputId": "5348d55e-c654-4ce9-ccd3-dc8894005a13"
      },
      "outputs": [
        {
          "output_type": "stream",
          "name": "stderr",
          "text": [
            "<ipython-input-19-7cacd596c4b8>:1: UserWarning: `Model.fit_generator` is deprecated and will be removed in a future version. Please use `Model.fit`, which supports generators.\n",
            "  model.fit_generator(\n"
          ]
        },
        {
          "output_type": "stream",
          "name": "stdout",
          "text": [
            "Epoch 1/50\n",
            "4/4 [==============================] - 13s 317ms/step - loss: 1.9495 - accuracy: 0.1404 - val_loss: 1.9475 - val_accuracy: 0.1562\n",
            "Epoch 2/50\n",
            "4/4 [==============================] - 2s 393ms/step - loss: 1.9443 - accuracy: 0.1641 - val_loss: 1.9475 - val_accuracy: 0.1562\n",
            "Epoch 3/50\n",
            "4/4 [==============================] - 1s 192ms/step - loss: 1.9492 - accuracy: 0.1316 - val_loss: 1.9462 - val_accuracy: 0.1562\n",
            "Epoch 4/50\n",
            "4/4 [==============================] - 1s 210ms/step - loss: 1.9491 - accuracy: 0.1140 - val_loss: 1.9497 - val_accuracy: 0.1250\n",
            "Epoch 5/50\n",
            "4/4 [==============================] - 1s 215ms/step - loss: 1.9433 - accuracy: 0.1641 - val_loss: 1.9477 - val_accuracy: 0.1562\n",
            "Epoch 6/50\n",
            "4/4 [==============================] - 1s 383ms/step - loss: 1.9483 - accuracy: 0.1842 - val_loss: 1.9479 - val_accuracy: 0.1406\n",
            "Epoch 7/50\n",
            "4/4 [==============================] - 1s 274ms/step - loss: 1.9494 - accuracy: 0.1667 - val_loss: 1.9448 - val_accuracy: 0.1562\n",
            "Epoch 8/50\n",
            "4/4 [==============================] - 1s 189ms/step - loss: 1.9435 - accuracy: 0.1842 - val_loss: 1.9475 - val_accuracy: 0.1562\n",
            "Epoch 9/50\n",
            "4/4 [==============================] - 1s 180ms/step - loss: 1.9520 - accuracy: 0.1316 - val_loss: 1.9470 - val_accuracy: 0.1406\n",
            "Epoch 10/50\n",
            "4/4 [==============================] - 1s 191ms/step - loss: 1.9391 - accuracy: 0.1579 - val_loss: 1.9467 - val_accuracy: 0.1562\n",
            "Epoch 11/50\n",
            "4/4 [==============================] - 1s 369ms/step - loss: 1.9545 - accuracy: 0.1316 - val_loss: 1.9490 - val_accuracy: 0.1250\n",
            "Epoch 12/50\n",
            "4/4 [==============================] - 1s 207ms/step - loss: 1.9544 - accuracy: 0.0526 - val_loss: 1.9478 - val_accuracy: 0.1406\n",
            "Epoch 13/50\n",
            "4/4 [==============================] - 1s 188ms/step - loss: 1.9571 - accuracy: 0.1404 - val_loss: 1.9447 - val_accuracy: 0.1562\n",
            "Epoch 14/50\n",
            "4/4 [==============================] - 1s 204ms/step - loss: 1.9465 - accuracy: 0.1094 - val_loss: 1.9466 - val_accuracy: 0.1250\n",
            "Epoch 15/50\n",
            "4/4 [==============================] - 1s 210ms/step - loss: 1.9494 - accuracy: 0.1406 - val_loss: 1.9464 - val_accuracy: 0.1562\n",
            "Epoch 16/50\n",
            "4/4 [==============================] - 1s 187ms/step - loss: 1.9417 - accuracy: 0.1754 - val_loss: 1.9449 - val_accuracy: 0.1562\n",
            "Epoch 17/50\n",
            "4/4 [==============================] - 1s 189ms/step - loss: 1.9461 - accuracy: 0.1491 - val_loss: 1.9470 - val_accuracy: 0.1406\n",
            "Epoch 18/50\n",
            "4/4 [==============================] - 1s 187ms/step - loss: 1.9452 - accuracy: 0.1754 - val_loss: 1.9464 - val_accuracy: 0.1406\n",
            "Epoch 19/50\n",
            "4/4 [==============================] - 1s 210ms/step - loss: 1.9427 - accuracy: 0.1328 - val_loss: 1.9465 - val_accuracy: 0.1562\n",
            "Epoch 20/50\n",
            "4/4 [==============================] - 1s 188ms/step - loss: 1.9439 - accuracy: 0.1579 - val_loss: 1.9470 - val_accuracy: 0.1250\n",
            "Epoch 21/50\n",
            "4/4 [==============================] - 1s 336ms/step - loss: 1.9487 - accuracy: 0.1328 - val_loss: 1.9457 - val_accuracy: 0.1406\n",
            "Epoch 22/50\n",
            "4/4 [==============================] - 1s 374ms/step - loss: 1.9535 - accuracy: 0.1491 - val_loss: 1.9484 - val_accuracy: 0.1406\n",
            "Epoch 23/50\n",
            "4/4 [==============================] - 1s 212ms/step - loss: 1.9479 - accuracy: 0.1579 - val_loss: 1.9467 - val_accuracy: 0.1406\n",
            "Epoch 24/50\n",
            "4/4 [==============================] - 1s 208ms/step - loss: 1.9431 - accuracy: 0.1484 - val_loss: 1.9472 - val_accuracy: 0.1562\n",
            "Epoch 25/50\n",
            "4/4 [==============================] - 1s 211ms/step - loss: 1.9479 - accuracy: 0.1328 - val_loss: 1.9468 - val_accuracy: 0.1562\n",
            "Epoch 26/50\n",
            "4/4 [==============================] - 1s 178ms/step - loss: 1.9465 - accuracy: 0.1667 - val_loss: 1.9484 - val_accuracy: 0.1406\n",
            "Epoch 27/50\n",
            "4/4 [==============================] - 1s 187ms/step - loss: 1.9526 - accuracy: 0.1140 - val_loss: 1.9462 - val_accuracy: 0.1406\n",
            "Epoch 28/50\n",
            "4/4 [==============================] - 1s 198ms/step - loss: 1.9478 - accuracy: 0.1484 - val_loss: 1.9466 - val_accuracy: 0.1406\n",
            "Epoch 29/50\n",
            "4/4 [==============================] - 1s 176ms/step - loss: 1.9496 - accuracy: 0.1228 - val_loss: 1.9469 - val_accuracy: 0.1406\n",
            "Epoch 30/50\n",
            "4/4 [==============================] - 1s 182ms/step - loss: 1.9494 - accuracy: 0.1228 - val_loss: 1.9455 - val_accuracy: 0.1562\n",
            "Epoch 31/50\n",
            "4/4 [==============================] - 1s 183ms/step - loss: 1.9475 - accuracy: 0.1579 - val_loss: 1.9476 - val_accuracy: 0.1250\n",
            "Epoch 32/50\n",
            "4/4 [==============================] - 1s 217ms/step - loss: 1.9473 - accuracy: 0.1484 - val_loss: 1.9466 - val_accuracy: 0.1406\n",
            "Epoch 33/50\n",
            "4/4 [==============================] - 1s 181ms/step - loss: 1.9463 - accuracy: 0.1491 - val_loss: 1.9455 - val_accuracy: 0.1562\n",
            "Epoch 34/50\n",
            "4/4 [==============================] - 1s 209ms/step - loss: 1.9442 - accuracy: 0.1641 - val_loss: 1.9469 - val_accuracy: 0.1406\n",
            "Epoch 35/50\n",
            "4/4 [==============================] - 1s 358ms/step - loss: 1.9465 - accuracy: 0.1228 - val_loss: 1.9454 - val_accuracy: 0.1406\n",
            "Epoch 36/50\n",
            "4/4 [==============================] - 1s 324ms/step - loss: 1.9516 - accuracy: 0.1250 - val_loss: 1.9459 - val_accuracy: 0.1406\n",
            "Epoch 37/50\n",
            "4/4 [==============================] - 1s 211ms/step - loss: 1.9479 - accuracy: 0.1491 - val_loss: 1.9476 - val_accuracy: 0.1094\n",
            "Epoch 38/50\n",
            "4/4 [==============================] - 1s 191ms/step - loss: 1.9476 - accuracy: 0.1228 - val_loss: 1.9464 - val_accuracy: 0.1406\n",
            "Epoch 39/50\n",
            "4/4 [==============================] - 1s 186ms/step - loss: 1.9478 - accuracy: 0.1404 - val_loss: 1.9455 - val_accuracy: 0.1562\n",
            "Epoch 40/50\n",
            "4/4 [==============================] - 1s 196ms/step - loss: 1.9452 - accuracy: 0.1250 - val_loss: 1.9463 - val_accuracy: 0.1250\n",
            "Epoch 41/50\n",
            "4/4 [==============================] - 1s 199ms/step - loss: 1.9468 - accuracy: 0.1316 - val_loss: 1.9453 - val_accuracy: 0.1562\n",
            "Epoch 42/50\n",
            "4/4 [==============================] - 1s 182ms/step - loss: 1.9456 - accuracy: 0.1667 - val_loss: 1.9448 - val_accuracy: 0.1562\n",
            "Epoch 43/50\n",
            "4/4 [==============================] - 1s 191ms/step - loss: 1.9461 - accuracy: 0.1667 - val_loss: 1.9466 - val_accuracy: 0.1250\n",
            "Epoch 44/50\n",
            "4/4 [==============================] - 1s 257ms/step - loss: 1.9446 - accuracy: 0.1406 - val_loss: 1.9461 - val_accuracy: 0.1406\n",
            "Epoch 45/50\n",
            "4/4 [==============================] - 1s 323ms/step - loss: 1.9476 - accuracy: 0.1667 - val_loss: 1.9462 - val_accuracy: 0.1406\n",
            "Epoch 46/50\n",
            "4/4 [==============================] - 1s 264ms/step - loss: 1.9445 - accuracy: 0.1404 - val_loss: 1.9470 - val_accuracy: 0.1406\n",
            "Epoch 47/50\n",
            "4/4 [==============================] - 1s 190ms/step - loss: 1.9487 - accuracy: 0.1491 - val_loss: 1.9455 - val_accuracy: 0.1562\n",
            "Epoch 48/50\n",
            "4/4 [==============================] - 1s 201ms/step - loss: 1.9477 - accuracy: 0.1406 - val_loss: 1.9450 - val_accuracy: 0.1562\n",
            "Epoch 49/50\n",
            "4/4 [==============================] - 1s 198ms/step - loss: 1.9491 - accuracy: 0.1316 - val_loss: 1.9472 - val_accuracy: 0.1094\n",
            "Epoch 50/50\n",
            "4/4 [==============================] - 1s 211ms/step - loss: 1.9474 - accuracy: 0.1641 - val_loss: 1.9464 - val_accuracy: 0.1094\n"
          ]
        },
        {
          "output_type": "execute_result",
          "data": {
            "text/plain": [
              "<keras.src.callbacks.History at 0x7fc56ad34df0>"
            ]
          },
          "metadata": {},
          "execution_count": 19
        }
      ],
      "source": [
        "model.fit_generator(\n",
        "    train_generator,\n",
        "    steps_per_epoch=nb_train_samples // batch_size,\n",
        "    epochs=epochs,\n",
        "    validation_data=validation_generator,\n",
        "    validation_steps=nb_validation_samples // batch_size,\n",
        ")"
      ]
    },
    {
      "cell_type": "markdown",
      "metadata": {
        "id": "69Vlh4LQ4mZu"
      },
      "source": [
        "## Save the weights/Load the weights"
      ]
    },
    {
      "cell_type": "code",
      "execution_count": 20,
      "metadata": {
        "id": "DChf4PkmxMH0"
      },
      "outputs": [],
      "source": [
        "model.save_weights('model-4.h5')"
      ]
    },
    {
      "cell_type": "code",
      "execution_count": 20,
      "metadata": {
        "id": "FYFat3A9u9VL"
      },
      "outputs": [],
      "source": [
        "model.load_weights('model-4.h5')"
      ]
    },
    {
      "cell_type": "markdown",
      "metadata": {
        "id": "me1pVtAG4qDG"
      },
      "source": [
        "## Make predictions with the trained CNN!"
      ]
    },
    {
      "cell_type": "code",
      "execution_count": 21,
      "metadata": {
        "id": "wDb8Y__SXZEI"
      },
      "outputs": [],
      "source": [
        "from PIL import Image"
      ]
    },
    {
      "cell_type": "code",
      "execution_count": 22,
      "metadata": {
        "id": "UpCSIaB04tgS"
      },
      "outputs": [],
      "source": [
        "im = Image.open('/content/DATASET/val_set/Ascending_Triangle/AT_21.jpg')"
      ]
    },
    {
      "cell_type": "code",
      "execution_count": 23,
      "metadata": {
        "id": "M_wJLdV_W1c-"
      },
      "outputs": [],
      "source": [
        "img = im.resize((128, 128))"
      ]
    },
    {
      "cell_type": "code",
      "execution_count": 24,
      "metadata": {
        "id": "D44ONQODgU6I"
      },
      "outputs": [],
      "source": [
        "img = np.array(img) / 255."
      ]
    },
    {
      "cell_type": "code",
      "execution_count": 25,
      "metadata": {
        "colab": {
          "base_uri": "https://localhost:8080/"
        },
        "id": "Zvzy6yDVgZGH",
        "outputId": "6f06cebd-3b8c-4cf7-dbde-040049fc4546"
      },
      "outputs": [
        {
          "output_type": "execute_result",
          "data": {
            "text/plain": [
              "(128, 128, 3)"
            ]
          },
          "metadata": {},
          "execution_count": 25
        }
      ],
      "source": [
        "img.shape"
      ]
    },
    {
      "cell_type": "code",
      "execution_count": 26,
      "metadata": {
        "id": "tSCiMNDKgkI0"
      },
      "outputs": [],
      "source": [
        "img = img[np.newaxis, ...]"
      ]
    },
    {
      "cell_type": "code",
      "execution_count": 27,
      "metadata": {
        "colab": {
          "base_uri": "https://localhost:8080/"
        },
        "id": "ca7ZPeoRgnVk",
        "outputId": "d49a42c5-0fd0-41d0-b305-99797761cb38"
      },
      "outputs": [
        {
          "output_type": "execute_result",
          "data": {
            "text/plain": [
              "(1, 128, 128, 3)"
            ]
          },
          "metadata": {},
          "execution_count": 27
        }
      ],
      "source": [
        "img.shape"
      ]
    },
    {
      "cell_type": "code",
      "execution_count": 28,
      "metadata": {
        "id": "WkgOwoqbgoaW"
      },
      "outputs": [],
      "source": [
        "out = model.predict_on_batch(img)"
      ]
    },
    {
      "cell_type": "code",
      "execution_count": 29,
      "metadata": {
        "colab": {
          "base_uri": "https://localhost:8080/"
        },
        "id": "IGD_vI5Dg0hQ",
        "outputId": "cce1abb0-cde2-4c15-b56b-9f9af24c6dc3"
      },
      "outputs": [
        {
          "output_type": "execute_result",
          "data": {
            "text/plain": [
              "array([[0.14874737, 0.14269665, 0.14585477, 0.13653229, 0.13768531,\n",
              "        0.14300676, 0.14547682]], dtype=float32)"
            ]
          },
          "metadata": {},
          "execution_count": 29
        }
      ],
      "source": [
        "out\n"
      ]
    },
    {
      "cell_type": "code",
      "execution_count": 30,
      "metadata": {
        "colab": {
          "base_uri": "https://localhost:8080/"
        },
        "id": "Cf-N87Kvg1kP",
        "outputId": "8b5d2bb6-2a7b-460a-88e1-e779f4a34fb3"
      },
      "outputs": [
        {
          "output_type": "execute_result",
          "data": {
            "text/plain": [
              "0.99999994"
            ]
          },
          "metadata": {},
          "execution_count": 30
        }
      ],
      "source": [
        "np.sum(out)"
      ]
    },
    {
      "cell_type": "code",
      "execution_count": 31,
      "metadata": {
        "id": "Cg2XvfXqkatu"
      },
      "outputs": [],
      "source": [
        "from IPython.display import display, HTML, Image"
      ]
    },
    {
      "cell_type": "code",
      "execution_count": 32,
      "metadata": {
        "colab": {
          "base_uri": "https://localhost:8080/"
        },
        "id": "ngmLyqjAhuWz",
        "outputId": "32b30ac9-92f5-4216-df96-909d34d19dc2"
      },
      "outputs": [
        {
          "output_type": "execute_result",
          "data": {
            "text/plain": [
              "0"
            ]
          },
          "metadata": {},
          "execution_count": 32
        }
      ],
      "source": [
        "np.argmax(out)"
      ]
    },
    {
      "cell_type": "code",
      "execution_count": 34,
      "metadata": {
        "colab": {
          "base_uri": "https://localhost:8080/",
          "height": 1000
        },
        "id": "Nblorx9jhxIY",
        "outputId": "c8476bad-865d-4a12-c60c-799bf5e6152e"
      },
      "outputs": [
        {
          "output_type": "display_data",
          "data": {
            "text/plain": [
              "<IPython.core.display.HTML object>"
            ],
            "text/html": [
              "<b>It is an ASCENDING TRIANGLE !!!</b><br><br><b>How To Draw It:</b><br><br><ul><li><b>Identify the Triangle:</b> Locate an ascending triangle pattern on the price chart. It consists of a horizontal resistance line (flat top) and an ascending support line (rising bottom).</li><li><b>Draw the Lines:</b> Draw the horizontal resistance line by connecting the highs where the price repeatedly struggles to break through. Then, draw the ascending support line by connecting the higher lows, showing increasing buying pressure.</li></ul><br><br><b>How To Trade:</b><br><br><ul><li><b>Entry Point:</b>  Initiate a long (buy) position once the price breaks above the horizontal resistance line, confirming the ascending triangle pattern. This breakout is typically a bullish signal.</li><li><b>Stop-Loss Placement:</b> To manage risk, place a stop-loss order just below the ascending support line. This level acts as a protective barrier if the price reverses and moves against your trade.</li><li><b>Take-Profit Level:</b>  Estimate the potential price increase by measuring the height of the triangle (the distance from the horizontal resistance line to the ascending support line) and project this distance upward from the breakout point. This projection can be your initial take-profit target.</li><li><b>Partial Profits and Trailing Stops:</b> Consider taking partial profits at predefined levels as the price moves in your favor. You can also use trailing stop orders to protect profits as the price continues to rise.</li><li><b>Risk Management:</b> Always implement effective risk management techniques, such as not risking more than a predetermined percentage of your trading capital on a single trade.</li></ul><br><br>"
            ]
          },
          "metadata": {}
        },
        {
          "output_type": "display_data",
          "data": {
            "image/png": "[encoded data removed]",
            "text/plain": [
              "<IPython.core.display.Image object>"
            ]
          },
          "metadata": {}
        }
      ],
      "source": [
        "predicted_class=np.argmax(out)\n",
        "\n",
        "if predicted_class == 0:\n",
        "    output_text = f\"<b>It is an ASCENDING TRIANGLE !!!</b><br><br><b>How To Draw It:</b><br><br><ul><li><b>Identify the Triangle:</b> Locate an ascending triangle pattern on the price chart. It consists of a horizontal resistance line (flat top) and an ascending support line (rising bottom).</li><li><b>Draw the Lines:</b> Draw the horizontal resistance line by connecting the highs where the price repeatedly struggles to break through. Then, draw the ascending support line by connecting the higher lows, showing increasing buying pressure.</li></ul><br><br><b>How To Trade:</b><br><br><ul><li><b>Entry Point:</b>  Initiate a long (buy) position once the price breaks above the horizontal resistance line, confirming the ascending triangle pattern. This breakout is typically a bullish signal.</li><li><b>Stop-Loss Placement:</b> To manage risk, place a stop-loss order just below the ascending support line. This level acts as a protective barrier if the price reverses and moves against your trade.</li><li><b>Take-Profit Level:</b>  Estimate the potential price increase by measuring the height of the triangle (the distance from the horizontal resistance line to the ascending support line) and project this distance upward from the breakout point. This projection can be your initial take-profit target.</li><li><b>Partial Profits and Trailing Stops:</b> Consider taking partial profits at predefined levels as the price moves in your favor. You can also use trailing stop orders to protect profits as the price continues to rise.</li><li><b>Risk Management:</b> Always implement effective risk management techniques, such as not risking more than a predetermined percentage of your trading capital on a single trade.</li></ul><br><br>\"\n",
        "    image_path ='/content/DATASET/output/Ascending_Triangle.png'\n",
        "elif predicted_class == 1:\n",
        "    output_text = f\"<b>It is a DESCENDING TRIANGLE !!!</b><br><br><b>How To Draw It:</b><br><br><ul><li><b>Identify the Triangle:</b>  Locate a descending triangle pattern on the price chart. It consists of a horizontal support line (flat bottom) and a descending resistance line (sloping down).</li><li><b>Draw the Lines:</b>  Draw the horizontal support line by connecting the lows where the price repeatedly finds buying interest. Then, draw the descending resistance line by connecting the lower highs, indicating increasing selling pressure.</li></ul><br><br><b>How To Trade:</b><br><br><ul><li><b>Entry Point:</b>  Initiate a short (sell) position once the price breaks below the horizontal support line, confirming the descending triangle pattern. This breakout is typically a bearish signal.</li><li><b>Stop-Loss Placement:</b> To manage risk, place a stop-loss order just above the descending resistance line. This level serves as a protective barrier if the price reverses and moves against your trade.</li><li><b>Take-Profit Level:</b>  Estimate the potential price decline by measuring the height of the triangle (the distance from the horizontal support line to the descending resistance line) and project this distance downward from the breakout point. This projection can be your initial take-profit target.</li><li><b>Partial Profits and Trailing Stops:</b> Consider taking partial profits at predefined levels as the price moves in your favor. You can also use trailing stop orders to protect profits as the price continues to decline.</li><li><b>Risk Management:</b>  Always implement effective risk management techniques, such as not risking more than a predetermined percentage of your trading capital on a single trade.</li></ul><br><br>\"\n",
        "    image_path ='/content/DATASET/output/Descending_Triangle.png'\n",
        "elif predicted_class == 2:\n",
        "    output_text = f\"<b>It is a DOUBLE BOTTOM !!!</b><br><br><b>How To Draw It:</b><br><br><ul><li><b>Identify the Double Bottom:</b>   Locate a double bottom pattern on the price chart. It consists of two distinct troughs (low points) separated by a peak (a higher point) in between.</li><li><b>Draw Support Line:</b>  Connect the lows of the two troughs with a horizontal line. This line represents a strong support level.</li></ul><br><br><b>How To Trade:</b><br><br><ul><li><b>Entry Point:</b>  Initiate a long (buy) position once the price breaks above the peak that separates the two troughs, confirming the double bottom pattern. This breakout is typically a bullish signal.</li><li><b>Stop-Loss Placement:</b> To manage risk, place a stop-loss order just below the support line, which is the lowest point of the pattern. This level acts as a protective barrier if the price reverses and moves against your trade.</li><li><b>Take-Profit Level:</b>  Estimate the potential price increase by measuring the distance from the support line to the peak between the two troughs. Then, project this distance upward from the breakout point. This projection can be your initial take-profit target.</li><li><b>Partial Profits and Trailing Stops:</b> Consider taking partial profits at predefined levels as the price moves in your favor. You can also use trailing stop orders to protect profits as the price continues to rise.</li><li><b>Risk Management:</b>  Implement effective risk management techniques, such as not risking more than a predetermined percentage of your trading capital on a single trade.</li></ul><br><br>\"\n",
        "    image_path ='/content/DATASET/output/DoubleBottom_Traingle.png'\n",
        "elif predicted_class == 3:\n",
        "    output_text = f\"<b>It is a DOUBLE TOP !!!</b><br><br><b>How To Draw It:</b><br><br><ul><li><b>Identify Peaks:</b> Look for two peaks in the price chart at roughly the same level. These represent resistance points.</li><li><b>Draw Neckline:</b> Connect the lows between the two peaks with a horizontal line. This is your neckline.</li></ul><br><br><b>How To Trade:</b><br><br><ul><li><b>Entry Point:</b> Initiate a short (sell) position once the price breaks below the neckline, confirming the double top pattern. This is typically a bearish signal.</li><li><b>Stop-Loss Placement:</b> To manage risk, place a stop-loss order just above the second peak (the second top). This level serves as a protective barrier if the price reverses and moves against your trade.</li><b>Take-Profit Level:</b> Estimate the potential price decline by measuring the distance from the neckline to the highest point of the pattern. Then, project this distance downward from the breakout point (below the neckline). This projection can be your initial take-profit target.</li><li><b>Partial Profits and Trailing Stops:</b> Consider taking partial profits at predefined levels as the price moves in your favor. Additionally, you may use trailing stop orders to secure profits as the price continues to decline.</li><li><b>Risk Management:</b> Implement sound risk management strategies, such as never risking more than a predetermined percentage of your trading capital on a single trade.</li></ul><br><br>\"\n",
        "    image_path ='/content/DATASET/output/DoubleTop_Triangle.png'\n",
        "elif predicted_class == 4:\n",
        "    output_text = f\"<b>It is a FALLING WEDGE !!!</b><br><br><b>How To Draw It:</b><br><br><ul><li><b> Identify the Falling Wedge:</b>   Locate a falling wedge pattern on the price chart. It resembles a contracting triangle with converging trendlines, where both the upper and lower lines slope downward.</li><li><b> Draw the Trendlines: b> Draw the upper trendline by connecting the lower highs, and draw the lower trendline by connecting the lower lows. These lines should converge as they extend to the right.<li></ul><br><br><b>How To Trade:</b><br><br><ul><li><b>Entry Point:</b>  Initiate a long (buy) position once the price breaks above the upper trendline of the falling wedge pattern, confirming the breakout. This breakout is typically a bullish signal.</li><li><b>Stop-Loss Placement:</b> To manage risk, place a stop-loss order just below the lower trendline of the falling wedge. This level acts as a protective barrier if the price reverses and moves against your trade.</li><li><b>Take-Profit Level:</b>  Estimate the potential price increase by measuring the height of the widest part of the wedge (from the upper to the lower trendline) and project this distance upward from the breakout point. This projection can be your initial take-profit target.</li><li><b>Partial Profits and Trailing Stops:</b> Consider taking partial profits at predefined levels as the price moves in your favor. You can also use trailing stop orders to protect profits as the price continues to rise.</li><li><b>Risk Management:</b>  Implement effective risk management techniques, such as not risking more than a predetermined percentage of your trading capital on a single trade.</li></ul><br><br>\"\n",
        "    image_path ='/content/DATASET/output/FallingWedge_Triangle.png'\n",
        "elif predicted_class == 5:\n",
        "    output_text = f\"<b>It is a RISING WEDGE !!!</b><br><br><b>How To Draw It:</b><br><br><ul><li><b> Identify the Rising Wedge:</b>   Locate a rising wedge pattern on the price chart. It resembles a contracting triangle with converging trendlines, where both the upper and lower lines slope upward.</li><li><b> Draw the Trendlines: b> Draw the upper trendline by connecting the higher highs, and draw the lower trendline by connecting the higher lows. These lines should converge as they extend to the right.<li></ul><br><br><b>How To Trade:</b><br><br><ul><li><b>Entry Point:</b>  Initiate a short (sell) position once the price breaks below the lower trendline of the rising wedge pattern, confirming the breakout. This breakout is typically a bearish signal.</li><li><b>Stop-Loss Placement:</b> To manage risk, place a stop-loss order just above the upper trendline of the rising wedge. This level acts as a protective barrier if the price reverses and moves against your trade.</li><li><b>Take-Profit Level:</b>  Estimate the potential price decline by measuring the height of the widest part of the wedge (from the upper to the lower trendline) and project this distance downward from the breakout point. This projection can be your initial take-profit target.</li><li><b>Partial Profits and Trailing Stops:</b> Consider taking partial profits at predefined levels as the price moves in your favor. You can also use trailing stop orders to protect profits as the price continues to decline.</li><li><b>Risk Management:</b>  Implement effective risk management techniques, such as not risking more than a predetermined percentage of your trading capital on a single trade.</li></ul><br><br>\"\n",
        "    image_path ='/content/DATASET/output/RisingWedge_Triangle.png'\n",
        "elif predicted_class == 6:\n",
        "    output_text = f\"<b>It is a SYMMETRICAL TRIANGLE !!!</b><br><br><b>How To Draw It:</b><br><br><ul><li><b> Identify the Symmetric Triangle:</b>   Locate a symmetric triangle pattern on the price chart. It resembles a contracting triangle with converging trendlines, where both the upper and lower lines slope towards each other.</li><li><b> Draw the Trendlines: b> Draw the upper trendline by connecting the lower highs, and draw the lower trendline by connecting the higher lows. These lines should converge as they extend to the right, forming a symmetrical shape.<li></ul><br><br><b>How To Trade:</b><br><br><ul><li><b>Entry Point:</b>  Wait for a breakout, either above the upper trendline or below the lower trendline, to confirm the direction of the pattern. If the price breaks above the upper trendline, it's typically a bullish signal, and if it breaks below the lower trendline, it's typically a bearish signal.</li><li><b>Stop-Loss Placement:</b To manage risk, place a stop-loss order just outside the triangle on the opposite side of the breakout. For example, if you're trading a bullish breakout, place the stop-loss below the lower trendline. If you're trading a bearish breakout, place it above the upper trendline.</li><li><b>Take-Profit Level:</b>  Determine a target level by measuring the height of the widest part of the triangle (from the upper to the lower trendline) and project this distance in the direction of the breakout. This projection can be your initial take-profit target.</li><li><b>Partial Profits and Trailing Stops:</b> Consider taking partial profits at predefined levels as the price moves in your favor. You can also use trailing stop orders to protect profits as the price continues to move in your direction.</li><li><b>Risk Management:</b>  Implement effective risk management techniques, such as not risking more than a predetermined percentage of your trading capital on a single trade.</li></ul><br><br>\"\n",
        "    image_path ='/content/DATASET/output/Symmetrical_Triangle.png'\n",
        "else:\n",
        "    output_text = \"Class not recognized.\"\n",
        "    image_path ='/content/DATASET/output/Descending_Triangle.png'\n",
        "\n",
        "\n",
        "# Display the text\n",
        "display(HTML(output_text))\n",
        "# Display the image\n",
        "display(Image(filename=image_path))"
      ]
    }
  ],
  "metadata": {
    "accelerator": "GPU",
    "colab": {
      "provenance": []
    },
    "kernelspec": {
      "display_name": "Python 3",
      "name": "python3"
    }
  },
  "nbformat": 4,
  "nbformat_minor": 0
}