{
  "cells": [
    {
      "cell_type": "markdown",
      "metadata": {
        "id": "jptaGq3k1L0c"
      },
      "source": [
        "# Chart Patter Identifier"
      ]
    },
    {
      "cell_type": "markdown",
      "metadata": {
        "id": "aYQAC9gW0m6V"
      },
      "source": [
        "\n",
        "## Model Training"
      ]
    },
    {
      "cell_type": "markdown",
      "metadata": {
        "id": "CshxuGBg02Be"
      },
      "source": [
        "Download and extract the dataset"
      ]
    },
    {
      "cell_type": "code",
      "execution_count": 1,
      "metadata": {
        "colab": {
          "base_uri": "https://localhost:8080/"
        },
        "id": "LN1ELDdD0vY1",
        "outputId": "57ce2c3f-48f6-4319-9eb9-e26c49353fa5"
      },
      "outputs": [
        {
          "output_type": "stream",
          "name": "stdout",
          "text": [
            "/usr/local/lib/python3.10/dist-packages/gdown/cli.py:121: FutureWarning: Option `--id` was deprecated in version 4.3.1 and will be removed in 5.0. You don't need to pass it anymore to use a file ID.\n",
            "  warnings.warn(\n",
            "Downloading...\n",
            "From: https://drive.google.com/uc?id=1Sn8uXjQZAIh8ycxEi0ZcTxhxTN5_U-Rx\n",
            "To: /content/DATASET.zip\n",
            "100% 3.20M/3.20M [00:00<00:00, 230MB/s]\n"
          ]
        }
      ],
      "source": [
        "!gdown --id 1Sn8uXjQZAIh8ycxEi0ZcTxhxTN5_U-Rx\n"
      ]
    },
    {
      "cell_type": "code",
      "execution_count": 2,
      "metadata": {
        "colab": {
          "base_uri": "https://localhost:8080/"
        },
        "id": "85ra2G-GrfMx",
        "outputId": "6342717e-ced2-4486-e83c-ff63083836f5"
      },
      "outputs": [
        {
          "output_type": "stream",
          "name": "stdout",
          "text": [
            "Archive:  DATASET.zip\n",
            "   creating: DATASET/\n",
            "   creating: DATASET/train_set/\n",
            "   creating: DATASET/train_set/Ascending_Triangle/\n",
            "  inflating: DATASET/train_set/Ascending_Triangle/AT_01.jpg  \n",
            "  inflating: DATASET/train_set/Ascending_Triangle/AT_02.jpg  \n",
            "  inflating: DATASET/train_set/Ascending_Triangle/AT_03.jpg  \n",
            "  inflating: DATASET/train_set/Ascending_Triangle/AT_04.jpg  \n",
            "  inflating: DATASET/train_set/Ascending_Triangle/AT_05.jpg  \n",
            "  inflating: DATASET/train_set/Ascending_Triangle/AT_06.jpg  \n",
            "  inflating: DATASET/train_set/Ascending_Triangle/AT_07.jpg  \n",
            "  inflating: DATASET/train_set/Ascending_Triangle/AT_08.jpg  \n",
            "  inflating: DATASET/train_set/Ascending_Triangle/AT_09.jpg  \n",
            "  inflating: DATASET/train_set/Ascending_Triangle/AT_10.jpg  \n",
            "  inflating: DATASET/train_set/Ascending_Triangle/AT_11.jpg  \n",
            "  inflating: DATASET/train_set/Ascending_Triangle/AT_12.jpg  \n",
            "  inflating: DATASET/train_set/Ascending_Triangle/AT_13.jpg  \n",
            "  inflating: DATASET/train_set/Ascending_Triangle/AT_14.jpg  \n",
            "  inflating: DATASET/train_set/Ascending_Triangle/AT_15.jpg  \n",
            "  inflating: DATASET/train_set/Ascending_Triangle/AT_16.jpg  \n",
            "  inflating: DATASET/train_set/Ascending_Triangle/AT_17.jpg  \n",
            "  inflating: DATASET/train_set/Ascending_Triangle/AT_18.jpg  \n",
            "  inflating: DATASET/train_set/Ascending_Triangle/AT_19.jpg  \n",
            "  inflating: DATASET/train_set/Ascending_Triangle/AT_20.jpg  \n",
            "  inflating: DATASET/train_set/Ascending_Triangle/AT_21.jpg  \n",
            "  inflating: DATASET/train_set/Ascending_Triangle/AT_22.jpg  \n",
            "  inflating: DATASET/train_set/Ascending_Triangle/AT_23.jpg  \n",
            "  inflating: DATASET/train_set/Ascending_Triangle/AT_24.jpg  \n",
            "  inflating: DATASET/train_set/Ascending_Triangle/AT_25.jpg  \n",
            "  inflating: DATASET/train_set/Ascending_Triangle/AT_26.jpg  \n",
            "  inflating: DATASET/train_set/Ascending_Triangle/AT_27.jpg  \n",
            "  inflating: DATASET/train_set/Ascending_Triangle/AT_28.jpg  \n",
            "  inflating: DATASET/train_set/Ascending_Triangle/AT_29.jpg  \n",
            "  inflating: DATASET/train_set/Ascending_Triangle/AT_30.jpg  \n",
            "   creating: DATASET/train_set/Descending_Triangle/\n",
            "  inflating: DATASET/train_set/Descending_Triangle/DT_01.jpg  \n",
            "  inflating: DATASET/train_set/Descending_Triangle/DT_012.jpg  \n",
            "  inflating: DATASET/train_set/Descending_Triangle/DT_02.jpg  \n",
            "  inflating: DATASET/train_set/Descending_Triangle/DT_03.jpg  \n",
            "  inflating: DATASET/train_set/Descending_Triangle/DT_04.jpg  \n",
            "  inflating: DATASET/train_set/Descending_Triangle/DT_05.jpg  \n",
            "  inflating: DATASET/train_set/Descending_Triangle/DT_06.jpg  \n",
            "  inflating: DATASET/train_set/Descending_Triangle/DT_07.jpg  \n",
            "  inflating: DATASET/train_set/Descending_Triangle/DT_10.jpg  \n",
            "  inflating: DATASET/train_set/Descending_Triangle/DT_11.jpg  \n",
            "  inflating: DATASET/train_set/Descending_Triangle/DT_13.jpg  \n",
            "  inflating: DATASET/train_set/Descending_Triangle/DT_14.jpg  \n",
            "  inflating: DATASET/train_set/Descending_Triangle/DT_15.jpg  \n",
            "  inflating: DATASET/train_set/Descending_Triangle/DT_16.jpg  \n",
            "  inflating: DATASET/train_set/Descending_Triangle/DT_17.jpg  \n",
            "  inflating: DATASET/train_set/Descending_Triangle/DT_18.jpg  \n",
            "  inflating: DATASET/train_set/Descending_Triangle/DT_19.jpg  \n",
            "  inflating: DATASET/train_set/Descending_Triangle/DT_20.jpg  \n",
            "  inflating: DATASET/train_set/Descending_Triangle/DT_21.jpg  \n",
            "  inflating: DATASET/train_set/Descending_Triangle/DT_22.jpg  \n",
            "  inflating: DATASET/train_set/Descending_Triangle/DT_23.jpg  \n",
            "  inflating: DATASET/train_set/Descending_Triangle/DT_24.jpg  \n",
            "  inflating: DATASET/train_set/Descending_Triangle/DT_25.jpg  \n",
            "  inflating: DATASET/train_set/Descending_Triangle/DT_26.jpg  \n",
            "  inflating: DATASET/train_set/Descending_Triangle/DT_27.jpg  \n",
            "  inflating: DATASET/train_set/Descending_Triangle/DT_28.jpg  \n",
            "  inflating: DATASET/train_set/Descending_Triangle/DT_29.jpg  \n",
            "  inflating: DATASET/train_set/Descending_Triangle/DT_30.jpg  \n",
            "  inflating: DATASET/train_set/Descending_Triangle/DT_8.jpg  \n",
            "  inflating: DATASET/train_set/Descending_Triangle/DT_9.jpg  \n",
            "   creating: DATASET/train_set/Double_Bottom/\n",
            "  inflating: DATASET/train_set/Double_Bottom/DB_01.jpg  \n",
            "  inflating: DATASET/train_set/Double_Bottom/DB_02.jpg  \n",
            "  inflating: DATASET/train_set/Double_Bottom/DB_03.jpg  \n",
            "  inflating: DATASET/train_set/Double_Bottom/DB_04.jpg  \n",
            "  inflating: DATASET/train_set/Double_Bottom/DB_05.jpg  \n",
            "  inflating: DATASET/train_set/Double_Bottom/DB_06.jpg  \n",
            "  inflating: DATASET/train_set/Double_Bottom/DB_07.jpg  \n",
            "  inflating: DATASET/train_set/Double_Bottom/DB_08.jpg  \n",
            "  inflating: DATASET/train_set/Double_Bottom/DB_09.jpg  \n",
            "  inflating: DATASET/train_set/Double_Bottom/DB_10.jpg  \n",
            "  inflating: DATASET/train_set/Double_Bottom/DB_11.jpg  \n",
            "  inflating: DATASET/train_set/Double_Bottom/DB_12.jpg  \n",
            "  inflating: DATASET/train_set/Double_Bottom/DB_13.jpg  \n",
            "  inflating: DATASET/train_set/Double_Bottom/DB_14.jpg  \n",
            "  inflating: DATASET/train_set/Double_Bottom/DB_15.jpg  \n",
            "  inflating: DATASET/train_set/Double_Bottom/DB_16.jpg  \n",
            "  inflating: DATASET/train_set/Double_Bottom/DB_17.jpg  \n",
            "  inflating: DATASET/train_set/Double_Bottom/DB_18.jpg  \n",
            "  inflating: DATASET/train_set/Double_Bottom/DB_19.jpg  \n",
            "  inflating: DATASET/train_set/Double_Bottom/DB_20.jpg  \n",
            "  inflating: DATASET/train_set/Double_Bottom/DB_21.jpg  \n",
            "  inflating: DATASET/train_set/Double_Bottom/DB_22.jpg  \n",
            "  inflating: DATASET/train_set/Double_Bottom/DB_23.jpg  \n",
            "  inflating: DATASET/train_set/Double_Bottom/DB_24.jpg  \n",
            "  inflating: DATASET/train_set/Double_Bottom/DB_25.jpg  \n",
            "  inflating: DATASET/train_set/Double_Bottom/DB_26.jpg  \n",
            "  inflating: DATASET/train_set/Double_Bottom/DB_27.jpg  \n",
            "  inflating: DATASET/train_set/Double_Bottom/DB_28.jpg  \n",
            "  inflating: DATASET/train_set/Double_Bottom/DB_29.jpg  \n",
            "  inflating: DATASET/train_set/Double_Bottom/DB_30.jpg  \n",
            "   creating: DATASET/train_set/Double_Top/\n",
            "  inflating: DATASET/train_set/Double_Top/DT_01.jpg  \n",
            "  inflating: DATASET/train_set/Double_Top/DT_02.jpg  \n",
            "  inflating: DATASET/train_set/Double_Top/DT_03.jpg  \n",
            "  inflating: DATASET/train_set/Double_Top/DT_04.jpg  \n",
            "  inflating: DATASET/train_set/Double_Top/DT_05.jpg  \n",
            "  inflating: DATASET/train_set/Double_Top/DT_06.jpg  \n",
            "  inflating: DATASET/train_set/Double_Top/DT_07.jpg  \n",
            "  inflating: DATASET/train_set/Double_Top/DT_08.jpg  \n",
            "  inflating: DATASET/train_set/Double_Top/DT_09.jpg  \n",
            "  inflating: DATASET/train_set/Double_Top/DT_10.jpg  \n",
            "  inflating: DATASET/train_set/Double_Top/DT_11.jpg  \n",
            "  inflating: DATASET/train_set/Double_Top/DT_12.jpg  \n",
            "  inflating: DATASET/train_set/Double_Top/DT_13.jpg  \n",
            "  inflating: DATASET/train_set/Double_Top/DT_14.jpg  \n",
            "  inflating: DATASET/train_set/Double_Top/DT_15.jpg  \n",
            "  inflating: DATASET/train_set/Double_Top/DT_16.jpg  \n",
            "  inflating: DATASET/train_set/Double_Top/DT_17.jpg  \n",
            "  inflating: DATASET/train_set/Double_Top/DT_18.jpg  \n",
            "  inflating: DATASET/train_set/Double_Top/DT_19.jpg  \n",
            "  inflating: DATASET/train_set/Double_Top/DT_20.jpg  \n",
            "  inflating: DATASET/train_set/Double_Top/DT_21.jpg  \n",
            "  inflating: DATASET/train_set/Double_Top/DT_22.jpg  \n",
            "  inflating: DATASET/train_set/Double_Top/DT_23.jpg  \n",
            "  inflating: DATASET/train_set/Double_Top/DT_24.jpg  \n",
            "  inflating: DATASET/train_set/Double_Top/DT_25.jpg  \n",
            "  inflating: DATASET/train_set/Double_Top/DT_26.jpg  \n",
            "  inflating: DATASET/train_set/Double_Top/DT_27.jpg  \n",
            "  inflating: DATASET/train_set/Double_Top/DT_28.jpg  \n",
            "  inflating: DATASET/train_set/Double_Top/DT_29.jpg  \n",
            "  inflating: DATASET/train_set/Double_Top/DT_30.jpg  \n",
            "   creating: DATASET/train_set/Falling_Wedge/\n",
            "  inflating: DATASET/train_set/Falling_Wedge/FW_01.jpg  \n",
            "  inflating: DATASET/train_set/Falling_Wedge/FW_02.jpg  \n",
            "  inflating: DATASET/train_set/Falling_Wedge/FW_03.jpg  \n",
            "  inflating: DATASET/train_set/Falling_Wedge/FW_04.jpg  \n",
            "  inflating: DATASET/train_set/Falling_Wedge/FW_05.jpg  \n",
            "  inflating: DATASET/train_set/Falling_Wedge/FW_06.jpg  \n",
            "  inflating: DATASET/train_set/Falling_Wedge/FW_07.jpg  \n",
            "  inflating: DATASET/train_set/Falling_Wedge/FW_08.jpg  \n",
            "  inflating: DATASET/train_set/Falling_Wedge/FW_09.jpg  \n",
            "  inflating: DATASET/train_set/Falling_Wedge/FW_10.jpg  \n",
            "  inflating: DATASET/train_set/Falling_Wedge/FW_11.jpg  \n",
            "  inflating: DATASET/train_set/Falling_Wedge/FW_12.jpg  \n",
            "  inflating: DATASET/train_set/Falling_Wedge/FW_13.jpg  \n",
            "  inflating: DATASET/train_set/Falling_Wedge/FW_14.jpg  \n",
            "  inflating: DATASET/train_set/Falling_Wedge/FW_15.jpg  \n",
            "  inflating: DATASET/train_set/Falling_Wedge/FW_16.jpg  \n",
            "  inflating: DATASET/train_set/Falling_Wedge/FW_17.jpg  \n",
            "  inflating: DATASET/train_set/Falling_Wedge/FW_18.jpg  \n",
            "  inflating: DATASET/train_set/Falling_Wedge/FW_19.jpg  \n",
            "  inflating: DATASET/train_set/Falling_Wedge/FW_20.jpg  \n",
            "  inflating: DATASET/train_set/Falling_Wedge/FW_21.jpg  \n",
            "  inflating: DATASET/train_set/Falling_Wedge/FW_22.jpg  \n",
            "  inflating: DATASET/train_set/Falling_Wedge/FW_23.jpg  \n",
            "  inflating: DATASET/train_set/Falling_Wedge/FW_24.jpg  \n",
            "  inflating: DATASET/train_set/Falling_Wedge/FW_25.jpg  \n",
            "  inflating: DATASET/train_set/Falling_Wedge/FW_26.jpg  \n",
            "  inflating: DATASET/train_set/Falling_Wedge/FW_27.jpg  \n",
            "  inflating: DATASET/train_set/Falling_Wedge/FW_28.jpg  \n",
            "  inflating: DATASET/train_set/Falling_Wedge/FW_29.jpg  \n",
            "  inflating: DATASET/train_set/Falling_Wedge/FW_30.jpg  \n",
            "   creating: DATASET/train_set/Rising_Wedge/\n",
            "  inflating: DATASET/train_set/Rising_Wedge/RW_01.jpg  \n",
            "  inflating: DATASET/train_set/Rising_Wedge/RW_02.jpg  \n",
            "  inflating: DATASET/train_set/Rising_Wedge/RW_03.jpg  \n",
            "  inflating: DATASET/train_set/Rising_Wedge/RW_04.jpg  \n",
            "  inflating: DATASET/train_set/Rising_Wedge/RW_05.jpg  \n",
            "  inflating: DATASET/train_set/Rising_Wedge/RW_06.jpg  \n",
            "  inflating: DATASET/train_set/Rising_Wedge/RW_07.jpg  \n",
            "  inflating: DATASET/train_set/Rising_Wedge/RW_08.jpg  \n",
            "  inflating: DATASET/train_set/Rising_Wedge/RW_09.jpg  \n",
            "  inflating: DATASET/train_set/Rising_Wedge/RW_10.jpg  \n",
            "  inflating: DATASET/train_set/Rising_Wedge/RW_11.jpg  \n",
            "  inflating: DATASET/train_set/Rising_Wedge/RW_12.jpg  \n",
            "  inflating: DATASET/train_set/Rising_Wedge/RW_13.jpg  \n",
            "  inflating: DATASET/train_set/Rising_Wedge/RW_14.jpg  \n",
            "  inflating: DATASET/train_set/Rising_Wedge/RW_15.jpg  \n",
            "  inflating: DATASET/train_set/Rising_Wedge/RW_16.jpg  \n",
            "  inflating: DATASET/train_set/Rising_Wedge/RW_17.jpg  \n",
            "  inflating: DATASET/train_set/Rising_Wedge/RW_18.jpg  \n",
            "  inflating: DATASET/train_set/Rising_Wedge/RW_19.jpg  \n",
            "  inflating: DATASET/train_set/Rising_Wedge/RW_20.jpg  \n",
            "  inflating: DATASET/train_set/Rising_Wedge/RW_21.jpg  \n",
            "  inflating: DATASET/train_set/Rising_Wedge/RW_22.jpg  \n",
            "  inflating: DATASET/train_set/Rising_Wedge/RW_23.jpg  \n",
            "  inflating: DATASET/train_set/Rising_Wedge/RW_24.jpg  \n",
            "  inflating: DATASET/train_set/Rising_Wedge/RW_25.jpg  \n",
            "  inflating: DATASET/train_set/Rising_Wedge/RW_26.jpg  \n",
            "  inflating: DATASET/train_set/Rising_Wedge/RW_27.jpg  \n",
            "  inflating: DATASET/train_set/Rising_Wedge/RW_28.jpg  \n",
            "  inflating: DATASET/train_set/Rising_Wedge/RW_29.jpg  \n",
            "  inflating: DATASET/train_set/Rising_Wedge/RW_30.jpg  \n",
            "   creating: DATASET/train_set/Symmetrical_Triangle/\n",
            "  inflating: DATASET/train_set/Symmetrical_Triangle/ST_01.jpg  \n",
            "  inflating: DATASET/train_set/Symmetrical_Triangle/ST_010.jpg  \n",
            "  inflating: DATASET/train_set/Symmetrical_Triangle/ST_02.jpg  \n",
            "  inflating: DATASET/train_set/Symmetrical_Triangle/ST_03.jpg  \n",
            "  inflating: DATASET/train_set/Symmetrical_Triangle/ST_04.jpg  \n",
            "  inflating: DATASET/train_set/Symmetrical_Triangle/ST_05.jpg  \n",
            "  inflating: DATASET/train_set/Symmetrical_Triangle/ST_06.jpg  \n",
            "  inflating: DATASET/train_set/Symmetrical_Triangle/ST_07.jpg  \n",
            "  inflating: DATASET/train_set/Symmetrical_Triangle/ST_08.jpg  \n",
            "  inflating: DATASET/train_set/Symmetrical_Triangle/ST_09.jpg  \n",
            "  inflating: DATASET/train_set/Symmetrical_Triangle/ST_11.jpg  \n",
            "  inflating: DATASET/train_set/Symmetrical_Triangle/ST_12.jpg  \n",
            "  inflating: DATASET/train_set/Symmetrical_Triangle/ST_13.jpg  \n",
            "  inflating: DATASET/train_set/Symmetrical_Triangle/ST_14.jpg  \n",
            "  inflating: DATASET/train_set/Symmetrical_Triangle/ST_15.jpg  \n",
            "  inflating: DATASET/train_set/Symmetrical_Triangle/ST_16.jpg  \n",
            "  inflating: DATASET/train_set/Symmetrical_Triangle/ST_17.jpg  \n",
            "  inflating: DATASET/train_set/Symmetrical_Triangle/ST_18.jpg  \n",
            "  inflating: DATASET/train_set/Symmetrical_Triangle/ST_19.jpg  \n",
            "  inflating: DATASET/train_set/Symmetrical_Triangle/ST_20.jpg  \n",
            "  inflating: DATASET/train_set/Symmetrical_Triangle/ST_21.jpg  \n",
            "  inflating: DATASET/train_set/Symmetrical_Triangle/ST_22.jpg  \n",
            "  inflating: DATASET/train_set/Symmetrical_Triangle/ST_23.jpg  \n",
            "  inflating: DATASET/train_set/Symmetrical_Triangle/ST_24.jpg  \n",
            "  inflating: DATASET/train_set/Symmetrical_Triangle/ST_25.jpg  \n",
            "  inflating: DATASET/train_set/Symmetrical_Triangle/ST_26.jpg  \n",
            "  inflating: DATASET/train_set/Symmetrical_Triangle/ST_27.jpg  \n",
            "  inflating: DATASET/train_set/Symmetrical_Triangle/ST_28.jpg  \n",
            "  inflating: DATASET/train_set/Symmetrical_Triangle/ST_29.jpg  \n",
            "  inflating: DATASET/train_set/Symmetrical_Triangle/ST_30.jpg  \n",
            "   creating: DATASET/val_set/\n",
            "   creating: DATASET/val_set/Ascending_Triangle/\n",
            "  inflating: DATASET/val_set/Ascending_Triangle/AT_21.jpg  \n",
            "  inflating: DATASET/val_set/Ascending_Triangle/AT_22.jpg  \n",
            "  inflating: DATASET/val_set/Ascending_Triangle/AT_23.jpg  \n",
            "  inflating: DATASET/val_set/Ascending_Triangle/AT_24.jpg  \n",
            "  inflating: DATASET/val_set/Ascending_Triangle/AT_25.jpg  \n",
            "  inflating: DATASET/val_set/Ascending_Triangle/AT_26.jpg  \n",
            "  inflating: DATASET/val_set/Ascending_Triangle/AT_27.jpg  \n",
            "  inflating: DATASET/val_set/Ascending_Triangle/AT_28.jpg  \n",
            "  inflating: DATASET/val_set/Ascending_Triangle/AT_29.jpg  \n",
            "  inflating: DATASET/val_set/Ascending_Triangle/AT_30.jpg  \n",
            "   creating: DATASET/val_set/Descending_Triangle/\n",
            "  inflating: DATASET/val_set/Descending_Triangle/DT_21.jpg  \n",
            "  inflating: DATASET/val_set/Descending_Triangle/DT_22.jpg  \n",
            "  inflating: DATASET/val_set/Descending_Triangle/DT_23.jpg  \n",
            "  inflating: DATASET/val_set/Descending_Triangle/DT_24.jpg  \n",
            "  inflating: DATASET/val_set/Descending_Triangle/DT_25.jpg  \n",
            "  inflating: DATASET/val_set/Descending_Triangle/DT_26.jpg  \n",
            "  inflating: DATASET/val_set/Descending_Triangle/DT_27.jpg  \n",
            "  inflating: DATASET/val_set/Descending_Triangle/DT_28.jpg  \n",
            "  inflating: DATASET/val_set/Descending_Triangle/DT_29.jpg  \n",
            "  inflating: DATASET/val_set/Descending_Triangle/DT_30.jpg  \n",
            "   creating: DATASET/val_set/Double_Bottom/\n",
            "  inflating: DATASET/val_set/Double_Bottom/DB_21.jpg  \n",
            "  inflating: DATASET/val_set/Double_Bottom/DB_22.jpg  \n",
            "  inflating: DATASET/val_set/Double_Bottom/DB_23.jpg  \n",
            "  inflating: DATASET/val_set/Double_Bottom/DB_24.jpg  \n",
            "  inflating: DATASET/val_set/Double_Bottom/DB_25.jpg  \n",
            "  inflating: DATASET/val_set/Double_Bottom/DB_26.jpg  \n",
            "  inflating: DATASET/val_set/Double_Bottom/DB_27.jpg  \n",
            "  inflating: DATASET/val_set/Double_Bottom/DB_28.jpg  \n",
            "  inflating: DATASET/val_set/Double_Bottom/DB_29.jpg  \n",
            "  inflating: DATASET/val_set/Double_Bottom/DB_30.jpg  \n",
            "   creating: DATASET/val_set/Double_Top/\n",
            "  inflating: DATASET/val_set/Double_Top/DT_21.jpg  \n",
            "  inflating: DATASET/val_set/Double_Top/DT_22.jpg  \n",
            "  inflating: DATASET/val_set/Double_Top/DT_23.jpg  \n",
            "  inflating: DATASET/val_set/Double_Top/DT_24.jpg  \n",
            "  inflating: DATASET/val_set/Double_Top/DT_25.jpg  \n",
            "  inflating: DATASET/val_set/Double_Top/DT_26.jpg  \n",
            "  inflating: DATASET/val_set/Double_Top/DT_27.jpg  \n",
            "  inflating: DATASET/val_set/Double_Top/DT_28.jpg  \n",
            "  inflating: DATASET/val_set/Double_Top/DT_29.jpg  \n",
            "  inflating: DATASET/val_set/Double_Top/DT_30.jpg  \n",
            "   creating: DATASET/val_set/Falling_Wedge/\n",
            "  inflating: DATASET/val_set/Falling_Wedge/FW_21.jpg  \n",
            "  inflating: DATASET/val_set/Falling_Wedge/FW_22.jpg  \n",
            "  inflating: DATASET/val_set/Falling_Wedge/FW_23.jpg  \n",
            "  inflating: DATASET/val_set/Falling_Wedge/FW_24.jpg  \n",
            "  inflating: DATASET/val_set/Falling_Wedge/FW_25.jpg  \n",
            "  inflating: DATASET/val_set/Falling_Wedge/FW_26.jpg  \n",
            "  inflating: DATASET/val_set/Falling_Wedge/FW_27.jpg  \n",
            "  inflating: DATASET/val_set/Falling_Wedge/FW_28.jpg  \n",
            "  inflating: DATASET/val_set/Falling_Wedge/FW_29.jpg  \n",
            "  inflating: DATASET/val_set/Falling_Wedge/FW_30.jpg  \n",
            "   creating: DATASET/val_set/Rising_Wedge/\n",
            "  inflating: DATASET/val_set/Rising_Wedge/RW_21.jpg  \n",
            "  inflating: DATASET/val_set/Rising_Wedge/RW_22.jpg  \n",
            "  inflating: DATASET/val_set/Rising_Wedge/RW_23.jpg  \n",
            "  inflating: DATASET/val_set/Rising_Wedge/RW_24.jpg  \n",
            "  inflating: DATASET/val_set/Rising_Wedge/RW_25.jpg  \n",
            "  inflating: DATASET/val_set/Rising_Wedge/RW_26.jpg  \n",
            "  inflating: DATASET/val_set/Rising_Wedge/RW_27.jpg  \n",
            "  inflating: DATASET/val_set/Rising_Wedge/RW_28.jpg  \n",
            "  inflating: DATASET/val_set/Rising_Wedge/RW_29.jpg  \n",
            "  inflating: DATASET/val_set/Rising_Wedge/RW_30.jpg  \n",
            "   creating: DATASET/val_set/Symmetrical_Triangle/\n",
            "  inflating: DATASET/val_set/Symmetrical_Triangle/ST_21.jpg  \n",
            "  inflating: DATASET/val_set/Symmetrical_Triangle/ST_22.jpg  \n",
            "  inflating: DATASET/val_set/Symmetrical_Triangle/ST_23.jpg  \n",
            "  inflating: DATASET/val_set/Symmetrical_Triangle/ST_24.jpg  \n",
            "  inflating: DATASET/val_set/Symmetrical_Triangle/ST_25.jpg  \n",
            "  inflating: DATASET/val_set/Symmetrical_Triangle/ST_26.jpg  \n",
            "  inflating: DATASET/val_set/Symmetrical_Triangle/ST_27.jpg  \n",
            "  inflating: DATASET/val_set/Symmetrical_Triangle/ST_28.jpg  \n",
            "  inflating: DATASET/val_set/Symmetrical_Triangle/ST_29.jpg  \n",
            "  inflating: DATASET/val_set/Symmetrical_Triangle/ST_30.jpg  \n"
          ]
        }
      ],
      "source": [
        "!unzip DATASET.zip\n"
      ]
    },
    {
      "cell_type": "markdown",
      "metadata": {
        "id": "_yzp6S_t1AE8"
      },
      "source": [
        "Verify that the data is there"
      ]
    },
    {
      "cell_type": "code",
      "execution_count": 3,
      "metadata": {
        "id": "HLIwYy7orqZu"
      },
      "outputs": [],
      "source": [
        "from PIL import Image\n",
        "from IPython.display import display"
      ]
    },
    {
      "cell_type": "code",
      "execution_count": 4,
      "metadata": {
        "id": "WAXUx0sjrvdm"
      },
      "outputs": [],
      "source": [
        "im = Image.open('DATASET/train_set/Ascending_Triangle/AT_01.jpg')"
      ]
    },
    {
      "cell_type": "code",
      "execution_count": 5,
      "metadata": {
        "colab": {
          "base_uri": "https://localhost:8080/"
        },
        "id": "9wSG7q88Bokc",
        "outputId": "c79aa6c3-7985-4b96-d527-01a476bc95d4"
      },
      "outputs": [
        {
          "output_type": "stream",
          "name": "stdout",
          "text": [
            "Collecting tensorboardcolab\n",
            "  Downloading tensorboardcolab-0.0.22.tar.gz (2.5 kB)\n",
            "  Preparing metadata (setup.py) ... \u001b[?25l\u001b[?25hdone\n",
            "Building wheels for collected packages: tensorboardcolab\n",
            "  Building wheel for tensorboardcolab (setup.py) ... \u001b[?25l\u001b[?25hdone\n",
            "  Created wheel for tensorboardcolab: filename=tensorboardcolab-0.0.22-py3-none-any.whl size=3834 sha256=eea2d593201b1f91f3788edec8e64ec40c9493f6dd8bd6d87fd09c934baf60c1\n",
            "  Stored in directory: /root/.cache/pip/wheels/8d/ee/46/7fe2bbbf1edbcfeabfaf13962dcaadec1f631d11147fd9d34d\n",
            "Successfully built tensorboardcolab\n",
            "Installing collected packages: tensorboardcolab\n",
            "Successfully installed tensorboardcolab-0.0.22\n"
          ]
        }
      ],
      "source": [
        "!pip install tensorboardcolab"
      ]
    },
    {
      "cell_type": "code",
      "execution_count": 6,
      "metadata": {
        "colab": {
          "base_uri": "https://localhost:8080/",
          "height": 202
        },
        "id": "KIKx04SVr3tO",
        "outputId": "2a922ce0-c90a-4860-8cdb-69e2b9f0a224"
      },
      "outputs": [
        {
          "output_type": "display_data",
          "data": {
            "text/plain": [
              "<PIL.JpegImagePlugin.JpegImageFile image mode=RGB size=223x185>"
            ],
            "image/png": "[encoded data removed]"
          },
          "metadata": {}
        }
      ],
      "source": [
        "display(im)"
      ]
    },
    {
      "cell_type": "code",
      "execution_count": 7,
      "metadata": {
        "colab": {
          "base_uri": "https://localhost:8080/"
        },
        "id": "8P2aTOywSZow",
        "outputId": "3c4eab29-9b3e-429a-9352-92a3b79392a3"
      },
      "outputs": [
        {
          "output_type": "execute_result",
          "data": {
            "text/plain": [
              "array([[[255, 255, 255],\n",
              "        [255, 255, 255],\n",
              "        [255, 255, 255],\n",
              "        ...,\n",
              "        [255, 255, 255],\n",
              "        [255, 255, 255],\n",
              "        [255, 255, 255]],\n",
              "\n",
              "       [[255, 255, 255],\n",
              "        [255, 255, 255],\n",
              "        [255, 255, 255],\n",
              "        ...,\n",
              "        [255, 255, 255],\n",
              "        [255, 255, 255],\n",
              "        [255, 255, 255]],\n",
              "\n",
              "       [[255, 255, 255],\n",
              "        [255, 255, 255],\n",
              "        [255, 255, 255],\n",
              "        ...,\n",
              "        [255, 255, 255],\n",
              "        [255, 255, 255],\n",
              "        [255, 255, 255]],\n",
              "\n",
              "       ...,\n",
              "\n",
              "       [[255, 255, 255],\n",
              "        [255, 255, 255],\n",
              "        [255, 255, 255],\n",
              "        ...,\n",
              "        [255, 255, 255],\n",
              "        [255, 255, 255],\n",
              "        [255, 255, 255]],\n",
              "\n",
              "       [[255, 255, 255],\n",
              "        [255, 255, 255],\n",
              "        [255, 255, 255],\n",
              "        ...,\n",
              "        [255, 255, 255],\n",
              "        [255, 255, 255],\n",
              "        [255, 255, 255]],\n",
              "\n",
              "       [[255, 255, 255],\n",
              "        [255, 255, 255],\n",
              "        [255, 255, 255],\n",
              "        ...,\n",
              "        [255, 255, 255],\n",
              "        [255, 255, 255],\n",
              "        [255, 255, 255]]], dtype=uint8)"
            ]
          },
          "metadata": {},
          "execution_count": 7
        }
      ],
      "source": [
        "import numpy as np\n",
        "image_arr = np.array(im)\n",
        "image_arr.shape\n",
        "image_arr"
      ]
    },
    {
      "cell_type": "markdown",
      "metadata": {
        "id": "LHaCWgqe1Gpl"
      },
      "source": [
        "## Module import and variable initialization\n"
      ]
    },
    {
      "cell_type": "code",
      "execution_count": 8,
      "metadata": {
        "id": "g1NLl0zpr5Em"
      },
      "outputs": [],
      "source": [
        "import numpy as np\n",
        "import tensorflow as tf\n",
        "from tensorflow import keras\n",
        "from tensorflow.keras import layers\n",
        "from tensorboardcolab import TensorBoardColab, TensorBoardColabCallback\n",
        "from tensorflow.keras.preprocessing.image import ImageDataGenerator\n"
      ]
    },
    {
      "cell_type": "code",
      "execution_count": 9,
      "metadata": {
        "id": "XiQl7VpLugsV"
      },
      "outputs": [],
      "source": [
        "# dimensions of our images.\n",
        "img_width, img_height = 128, 128"
      ]
    },
    {
      "cell_type": "code",
      "execution_count": 10,
      "metadata": {
        "id": "FFZy9cjzuniD"
      },
      "outputs": [],
      "source": [
        "train_data_dir = 'DATASET/train_set'\n",
        "validation_data_dir = 'DATASET/val_set'\n",
        "nb_train_samples = 140\n",
        "nb_validation_samples = 70\n",
        "epochs = 50\n",
        "batch_size = 20"
      ]
    },
    {
      "cell_type": "markdown",
      "metadata": {
        "id": "jXb7swv01guk"
      },
      "source": [
        "## Building the CNN model"
      ]
    },
    {
      "cell_type": "code",
      "execution_count": 11,
      "metadata": {
        "id": "6_esG1GhmtT1"
      },
      "outputs": [],
      "source": [
        "#New Tensorflow model\n",
        "input_shape = (img_width, img_height, 3)\n",
        "model = tf.keras.Sequential()\n",
        "model.add(tf.keras.layers.Conv2D(32, (3, 3),activation='relu',input_shape=input_shape))\n",
        "model.add(tf.keras.layers.MaxPool2D(pool_size=(2, 2)))\n",
        "model.add(tf.keras.layers.Conv2D(32, (3, 3),activation='relu'))\n",
        "model.add(tf.keras.layers.MaxPool2D(pool_size=(2, 2)))\n",
        "model.add(tf.keras.layers.MaxPool2D(pool_size=(2, 2)))\n",
        "\n",
        "model.add(tf.keras.layers.Conv2D(64, (3, 3),activation='relu'))\n",
        "model.add(tf.keras.layers.MaxPool2D(pool_size=(2, 2)))\n",
        "\n",
        "model.add(tf.keras.layers.Flatten())\n",
        "model.add(tf.keras.layers.Dense(64,activation='relu'))\n",
        "\n",
        "\n",
        "d2 = tf.keras.layers.Dense(64,activation='relu')\n",
        "model.add(d2)\n",
        "\n",
        "model.add(tf.keras.layers.Dropout(0.5))\n",
        "d3 =  tf.keras.layers.Dense(7,activation='softmax')\n",
        "model.add(d3)\n",
        "\n",
        "\n"
      ]
    },
    {
      "cell_type": "code",
      "execution_count": 12,
      "metadata": {
        "id": "smGkFRrluwiz"
      },
      "outputs": [],
      "source": [
        "model.compile(\n",
        "    loss='categorical_crossentropy',\n",
        "    optimizer='rmsprop',\n",
        "    metrics=['accuracy']\n",
        ")\n",
        "\n"
      ]
    },
    {
      "cell_type": "code",
      "execution_count": 13,
      "metadata": {
        "colab": {
          "base_uri": "https://localhost:8080/"
        },
        "id": "ah6cKvCVV9Am",
        "outputId": "556f4a16-d2d7-4597-e071-b508d3329a86"
      },
      "outputs": [
        {
          "output_type": "execute_result",
          "data": {
            "text/plain": [
              "(7,)"
            ]
          },
          "metadata": {},
          "execution_count": 13
        }
      ],
      "source": [
        "weights = d3.get_weights()\n",
        "weights[1].shape"
      ]
    },
    {
      "cell_type": "markdown",
      "metadata": {
        "id": "wAOwEYK74HT_"
      },
      "source": [
        "## Formatting data"
      ]
    },
    {
      "cell_type": "code",
      "execution_count": 14,
      "metadata": {
        "id": "EKx2PQ413iTg"
      },
      "outputs": [],
      "source": [
        "# this is the data augmentation configuration we will use for training\n",
        "train_datagen = ImageDataGenerator(\n",
        "    rescale=1. / 255,\n",
        "    shear_range=0.2,\n",
        "    zoom_range=0.2,\n",
        "    horizontal_flip=True\n",
        ")"
      ]
    },
    {
      "cell_type": "code",
      "execution_count": 15,
      "metadata": {
        "colab": {
          "base_uri": "https://localhost:8080/"
        },
        "id": "7mlZi2E-u1xr",
        "outputId": "e0593b0f-7dc4-43bf-85c3-938c51badfac"
      },
      "outputs": [
        {
          "output_type": "stream",
          "name": "stdout",
          "text": [
            "Found 210 images belonging to 7 classes.\n",
            "Found 70 images belonging to 7 classes.\n"
          ]
        }
      ],
      "source": [
        "# this is the augmentation configuration we will use for testing:\n",
        "# only rescaling\n",
        "test_datagen = ImageDataGenerator(rescale=1. / 255)\n",
        "\n",
        "train_generator = train_datagen.flow_from_directory(\n",
        "    train_data_dir,\n",
        "    target_size=(img_width, img_height),\n",
        "    batch_size=batch_size,\n",
        "    class_mode='categorical'\n",
        ")\n",
        "\n",
        "validation_generator = test_datagen.flow_from_directory(\n",
        "    validation_data_dir,\n",
        "    target_size=(img_width, img_height),\n",
        "    batch_size=batch_size,\n",
        "    class_mode='categorical'\n",
        ")"
      ]
    },
    {
      "cell_type": "markdown",
      "metadata": {
        "id": "ahDZ1W-f1q_j"
      },
      "source": [
        "## Test the data feeders"
      ]
    },
    {
      "cell_type": "code",
      "execution_count": 16,
      "metadata": {
        "colab": {
          "base_uri": "https://localhost:8080/"
        },
        "id": "FtjB6g0B1uiz",
        "outputId": "a1bcdebd-4e04-46ad-c200-d7f4cbbc26b1"
      },
      "outputs": [
        {
          "output_type": "execute_result",
          "data": {
            "text/plain": [
              "array([0., 0., 1., 0., 0., 0., 0.], dtype=float32)"
            ]
          },
          "metadata": {},
          "execution_count": 16
        }
      ],
      "source": [
        "datum = next(train_generator)\n",
        "image_batch, label_batch = datum\n",
        "image_batch.shape\n",
        "k = 3\n",
        "image = image_batch[k, ...]\n",
        "label = label_batch[k, ...]\n",
        "\n",
        "label"
      ]
    },
    {
      "cell_type": "code",
      "execution_count": 17,
      "metadata": {
        "colab": {
          "base_uri": "https://localhost:8080/",
          "height": 145
        },
        "id": "ZlDeuyZA2FQr",
        "outputId": "e95f2b7a-ae74-4bf4-d4e4-0e4a15236b26"
      },
      "outputs": [
        {
          "output_type": "display_data",
          "data": {
            "text/plain": [
              "<PIL.Image.Image image mode=RGB size=128x128>"
            ],
            "image/png": "[encoded data removed]"
          },
          "metadata": {}
        }
      ],
      "source": [
        "display(Image.fromarray((image * 255).astype(np.uint8)))"
      ]
    },
    {
      "cell_type": "code",
      "execution_count": 18,
      "metadata": {
        "colab": {
          "base_uri": "https://localhost:8080/"
        },
        "id": "rp2oU7j72hJK",
        "outputId": "e73e744b-3309-49e0-fb2a-93c5749f1a6d"
      },
      "outputs": [
        {
          "output_type": "execute_result",
          "data": {
            "text/plain": [
              "(20, 128, 128, 3)"
            ]
          },
          "metadata": {},
          "execution_count": 18
        }
      ],
      "source": [
        "image_batch.shape"
      ]
    },
    {
      "cell_type": "markdown",
      "metadata": {
        "id": "szCLmqdp4Xo3"
      },
      "source": [
        "## Train the model"
      ]
    },
    {
      "cell_type": "code",
      "execution_count": 20,
      "metadata": {
        "colab": {
          "base_uri": "https://localhost:8080/"
        },
        "id": "0bM-VA2cu5Ky",
        "outputId": "40e8da94-58de-4bf6-8666-e88670575e49"
      },
      "outputs": [
        {
          "output_type": "stream",
          "name": "stderr",
          "text": [
            "<ipython-input-20-02639dcebc47>:2: UserWarning: `Model.fit_generator` is deprecated and will be removed in a future version. Please use `Model.fit`, which supports generators.\n",
            "  model.fit_generator(\n"
          ]
        },
        {
          "output_type": "stream",
          "name": "stdout",
          "text": [
            "Epoch 1/50\n",
            "7/7 [==============================] - 13s 220ms/step - loss: 2.0711 - accuracy: 0.1462 - val_loss: 1.9541 - val_accuracy: 0.1333\n",
            "Epoch 2/50\n",
            "7/7 [==============================] - 1s 198ms/step - loss: 1.9521 - accuracy: 0.1308 - val_loss: 1.9464 - val_accuracy: 0.1500\n",
            "Epoch 3/50\n",
            "7/7 [==============================] - 2s 248ms/step - loss: 1.9517 - accuracy: 0.1429 - val_loss: 1.9446 - val_accuracy: 0.1833\n",
            "Epoch 4/50\n",
            "7/7 [==============================] - 2s 352ms/step - loss: 1.9481 - accuracy: 0.1000 - val_loss: 1.9455 - val_accuracy: 0.1667\n",
            "Epoch 5/50\n",
            "7/7 [==============================] - 1s 171ms/step - loss: 1.9555 - accuracy: 0.1385 - val_loss: 1.9439 - val_accuracy: 0.1333\n",
            "Epoch 6/50\n",
            "7/7 [==============================] - 1s 140ms/step - loss: 1.9598 - accuracy: 0.1071 - val_loss: 1.9423 - val_accuracy: 0.1833\n",
            "Epoch 7/50\n",
            "7/7 [==============================] - 1s 134ms/step - loss: 1.9479 - accuracy: 0.2154 - val_loss: 1.9399 - val_accuracy: 0.1500\n",
            "Epoch 8/50\n",
            "7/7 [==============================] - 1s 142ms/step - loss: 1.9465 - accuracy: 0.2000 - val_loss: 1.9322 - val_accuracy: 0.2333\n",
            "Epoch 9/50\n",
            "7/7 [==============================] - 1s 145ms/step - loss: 1.9404 - accuracy: 0.1500 - val_loss: 1.9097 - val_accuracy: 0.2833\n",
            "Epoch 10/50\n",
            "7/7 [==============================] - 1s 132ms/step - loss: 1.9314 - accuracy: 0.1846 - val_loss: 1.8365 - val_accuracy: 0.3000\n",
            "Epoch 11/50\n",
            "7/7 [==============================] - 2s 271ms/step - loss: 1.8587 - accuracy: 0.2615 - val_loss: 1.7067 - val_accuracy: 0.3667\n",
            "Epoch 12/50\n",
            "7/7 [==============================] - 1s 157ms/step - loss: 1.7684 - accuracy: 0.2692 - val_loss: 1.5333 - val_accuracy: 0.3667\n",
            "Epoch 13/50\n",
            "7/7 [==============================] - 1s 131ms/step - loss: 1.6994 - accuracy: 0.2769 - val_loss: 1.4470 - val_accuracy: 0.3500\n",
            "Epoch 14/50\n",
            "7/7 [==============================] - 1s 133ms/step - loss: 1.5898 - accuracy: 0.3846 - val_loss: 1.3109 - val_accuracy: 0.4667\n",
            "Epoch 15/50\n",
            "7/7 [==============================] - 1s 143ms/step - loss: 1.6261 - accuracy: 0.3786 - val_loss: 1.3019 - val_accuracy: 0.4333\n",
            "Epoch 16/50\n",
            "7/7 [==============================] - 1s 145ms/step - loss: 1.4511 - accuracy: 0.3643 - val_loss: 1.1111 - val_accuracy: 0.4833\n",
            "Epoch 17/50\n",
            "7/7 [==============================] - 1s 135ms/step - loss: 1.4956 - accuracy: 0.3615 - val_loss: 1.1427 - val_accuracy: 0.6000\n",
            "Epoch 18/50\n",
            "7/7 [==============================] - 1s 136ms/step - loss: 1.4335 - accuracy: 0.4538 - val_loss: 1.1643 - val_accuracy: 0.5167\n",
            "Epoch 19/50\n",
            "7/7 [==============================] - 1s 139ms/step - loss: 1.5167 - accuracy: 0.4308 - val_loss: 1.1267 - val_accuracy: 0.4833\n",
            "Epoch 20/50\n",
            "7/7 [==============================] - 1s 143ms/step - loss: 1.4490 - accuracy: 0.3929 - val_loss: 1.0744 - val_accuracy: 0.6000\n",
            "Epoch 21/50\n",
            "7/7 [==============================] - 2s 231ms/step - loss: 1.2769 - accuracy: 0.4786 - val_loss: 1.0377 - val_accuracy: 0.6167\n",
            "Epoch 22/50\n",
            "7/7 [==============================] - 1s 194ms/step - loss: 1.3583 - accuracy: 0.4385 - val_loss: 0.9977 - val_accuracy: 0.7667\n",
            "Epoch 23/50\n",
            "7/7 [==============================] - 1s 143ms/step - loss: 1.2774 - accuracy: 0.4846 - val_loss: 0.8698 - val_accuracy: 0.7000\n",
            "Epoch 24/50\n",
            "7/7 [==============================] - 1s 133ms/step - loss: 1.1695 - accuracy: 0.6154 - val_loss: 0.9563 - val_accuracy: 0.6667\n",
            "Epoch 25/50\n",
            "7/7 [==============================] - 1s 141ms/step - loss: 1.3838 - accuracy: 0.5000 - val_loss: 0.9012 - val_accuracy: 0.7167\n",
            "Epoch 26/50\n",
            "7/7 [==============================] - 1s 141ms/step - loss: 1.2600 - accuracy: 0.5286 - val_loss: 0.8988 - val_accuracy: 0.7000\n",
            "Epoch 27/50\n",
            "7/7 [==============================] - 1s 136ms/step - loss: 1.2526 - accuracy: 0.4769 - val_loss: 0.9530 - val_accuracy: 0.5333\n",
            "Epoch 28/50\n",
            "7/7 [==============================] - 1s 143ms/step - loss: 1.2198 - accuracy: 0.5500 - val_loss: 0.7480 - val_accuracy: 0.7500\n",
            "Epoch 29/50\n",
            "7/7 [==============================] - 1s 138ms/step - loss: 1.1088 - accuracy: 0.6000 - val_loss: 0.7120 - val_accuracy: 0.7833\n",
            "Epoch 30/50\n",
            "7/7 [==============================] - 1s 135ms/step - loss: 1.1009 - accuracy: 0.5846 - val_loss: 0.6461 - val_accuracy: 0.7833\n",
            "Epoch 31/50\n",
            "7/7 [==============================] - 1s 182ms/step - loss: 1.2206 - accuracy: 0.5643 - val_loss: 0.7175 - val_accuracy: 0.7167\n",
            "Epoch 32/50\n",
            "7/7 [==============================] - 2s 234ms/step - loss: 1.1128 - accuracy: 0.5385 - val_loss: 0.8551 - val_accuracy: 0.6500\n",
            "Epoch 33/50\n",
            "7/7 [==============================] - 1s 137ms/step - loss: 1.1457 - accuracy: 0.5846 - val_loss: 0.7262 - val_accuracy: 0.7500\n",
            "Epoch 34/50\n",
            "7/7 [==============================] - 1s 163ms/step - loss: 1.1342 - accuracy: 0.6071 - val_loss: 0.5804 - val_accuracy: 0.8500\n",
            "Epoch 35/50\n",
            "7/7 [==============================] - 1s 133ms/step - loss: 1.1559 - accuracy: 0.5692 - val_loss: 0.5974 - val_accuracy: 0.8000\n",
            "Epoch 36/50\n",
            "7/7 [==============================] - 1s 137ms/step - loss: 0.9879 - accuracy: 0.6643 - val_loss: 0.5753 - val_accuracy: 0.8000\n",
            "Epoch 37/50\n",
            "7/7 [==============================] - 1s 128ms/step - loss: 1.0921 - accuracy: 0.6077 - val_loss: 0.6550 - val_accuracy: 0.7500\n",
            "Epoch 38/50\n",
            "7/7 [==============================] - 1s 139ms/step - loss: 1.0129 - accuracy: 0.6357 - val_loss: 0.6053 - val_accuracy: 0.7667\n",
            "Epoch 39/50\n",
            "7/7 [==============================] - 1s 141ms/step - loss: 1.0475 - accuracy: 0.5786 - val_loss: 0.5591 - val_accuracy: 0.7333\n",
            "Epoch 40/50\n",
            "7/7 [==============================] - 1s 130ms/step - loss: 0.9627 - accuracy: 0.6462 - val_loss: 0.5744 - val_accuracy: 0.8000\n",
            "Epoch 41/50\n",
            "7/7 [==============================] - 1s 138ms/step - loss: 1.0424 - accuracy: 0.5769 - val_loss: 0.5012 - val_accuracy: 0.8167\n",
            "Epoch 42/50\n",
            "7/7 [==============================] - 1s 201ms/step - loss: 1.0317 - accuracy: 0.5857 - val_loss: 0.6184 - val_accuracy: 0.8000\n",
            "Epoch 43/50\n",
            "7/7 [==============================] - 1s 143ms/step - loss: 0.9144 - accuracy: 0.6500 - val_loss: 0.5630 - val_accuracy: 0.8333\n",
            "Epoch 44/50\n",
            "7/7 [==============================] - 1s 136ms/step - loss: 1.1102 - accuracy: 0.6071 - val_loss: 0.5334 - val_accuracy: 0.8167\n",
            "Epoch 45/50\n",
            "7/7 [==============================] - 1s 212ms/step - loss: 0.8543 - accuracy: 0.6769 - val_loss: 0.5293 - val_accuracy: 0.8000\n",
            "Epoch 46/50\n",
            "7/7 [==============================] - 1s 139ms/step - loss: 0.9171 - accuracy: 0.6692 - val_loss: 0.6069 - val_accuracy: 0.7833\n",
            "Epoch 47/50\n",
            "7/7 [==============================] - 1s 142ms/step - loss: 0.9075 - accuracy: 0.6929 - val_loss: 0.6826 - val_accuracy: 0.7333\n",
            "Epoch 48/50\n",
            "7/7 [==============================] - 1s 133ms/step - loss: 0.9847 - accuracy: 0.6231 - val_loss: 0.5133 - val_accuracy: 0.8167\n",
            "Epoch 49/50\n",
            "7/7 [==============================] - 1s 133ms/step - loss: 0.9718 - accuracy: 0.6308 - val_loss: 0.5384 - val_accuracy: 0.8000\n",
            "Epoch 50/50\n",
            "7/7 [==============================] - 1s 224ms/step - loss: 0.7872 - accuracy: 0.7231 - val_loss: 0.4750 - val_accuracy: 0.8000\n"
          ]
        },
        {
          "output_type": "execute_result",
          "data": {
            "text/plain": [
              "<keras.src.callbacks.History at 0x78014c18eb30>"
            ]
          },
          "metadata": {},
          "execution_count": 20
        }
      ],
      "source": [
        "# tbc = TensorBoardColab()\n",
        "model.fit_generator(\n",
        "    train_generator,\n",
        "    steps_per_epoch=nb_train_samples // batch_size,\n",
        "    epochs=epochs,\n",
        "    validation_data=validation_generator,\n",
        "    validation_steps=nb_validation_samples // batch_size,\n",
        "    callbacks = [tensorboard_callback]\n",
        ")"
      ]
    },
    {
      "cell_type": "markdown",
      "metadata": {
        "id": "69Vlh4LQ4mZu"
      },
      "source": [
        "## Save the weights/Load the weights"
      ]
    },
    {
      "cell_type": "code",
      "execution_count": 21,
      "metadata": {
        "id": "DChf4PkmxMH0"
      },
      "outputs": [],
      "source": [
        "#model.save_weights('model-1.h5')"
      ]
    },
    {
      "cell_type": "code",
      "execution_count": 33,
      "metadata": {
        "id": "FYFat3A9u9VL"
      },
      "outputs": [],
      "source": [
        "model.load_weights('model-1.h5')"
      ]
    },
    {
      "cell_type": "markdown",
      "metadata": {
        "id": "me1pVtAG4qDG"
      },
      "source": [
        "## Make predictions with the trained CNN!"
      ]
    },
    {
      "cell_type": "code",
      "source": [
        "from PIL import Image"
      ],
      "metadata": {
        "id": "wDb8Y__SXZEI"
      },
      "execution_count": 42,
      "outputs": []
    },
    {
      "cell_type": "code",
      "execution_count": 47,
      "metadata": {
        "id": "UpCSIaB04tgS"
      },
      "outputs": [],
      "source": [
        "im = Image.open('/content/DATASET/val_set/Ascending_Triangle/AT_21.jpg')"
      ]
    },
    {
      "cell_type": "code",
      "source": [
        "img = im.resize((128, 128))"
      ],
      "metadata": {
        "id": "M_wJLdV_W1c-"
      },
      "execution_count": 48,
      "outputs": []
    },
    {
      "cell_type": "code",
      "execution_count": 49,
      "metadata": {
        "id": "D44ONQODgU6I"
      },
      "outputs": [],
      "source": [
        "img = np.array(img) / 255."
      ]
    },
    {
      "cell_type": "code",
      "execution_count": 50,
      "metadata": {
        "colab": {
          "base_uri": "https://localhost:8080/"
        },
        "id": "Zvzy6yDVgZGH",
        "outputId": "6280d77f-a1dc-4f2d-e537-2f8c764e5195"
      },
      "outputs": [
        {
          "output_type": "execute_result",
          "data": {
            "text/plain": [
              "(128, 128, 3)"
            ]
          },
          "metadata": {},
          "execution_count": 50
        }
      ],
      "source": [
        "img.shape"
      ]
    },
    {
      "cell_type": "code",
      "execution_count": 51,
      "metadata": {
        "id": "tSCiMNDKgkI0"
      },
      "outputs": [],
      "source": [
        "img = img[np.newaxis, ...]"
      ]
    },
    {
      "cell_type": "code",
      "execution_count": 52,
      "metadata": {
        "colab": {
          "base_uri": "https://localhost:8080/"
        },
        "id": "ca7ZPeoRgnVk",
        "outputId": "0b1366c6-938b-4b90-9b87-7a476920b9a7"
      },
      "outputs": [
        {
          "output_type": "execute_result",
          "data": {
            "text/plain": [
              "(1, 128, 128, 3)"
            ]
          },
          "metadata": {},
          "execution_count": 52
        }
      ],
      "source": [
        "img.shape"
      ]
    },
    {
      "cell_type": "code",
      "execution_count": 53,
      "metadata": {
        "id": "WkgOwoqbgoaW"
      },
      "outputs": [],
      "source": [
        "out = model.predict_on_batch(img)"
      ]
    },
    {
      "cell_type": "code",
      "execution_count": 54,
      "metadata": {
        "colab": {
          "base_uri": "https://localhost:8080/"
        },
        "id": "IGD_vI5Dg0hQ",
        "outputId": "656d2025-d159-447e-ce90-b54bea155f93"
      },
      "outputs": [
        {
          "output_type": "execute_result",
          "data": {
            "text/plain": [
              "array([[9.0315932e-01, 2.1343808e-04, 3.2638668e-04, 2.1272119e-02,\n",
              "        1.2500857e-02, 9.3096793e-03, 5.3218249e-02]], dtype=float32)"
            ]
          },
          "metadata": {},
          "execution_count": 54
        }
      ],
      "source": [
        "out\n"
      ]
    },
    {
      "cell_type": "code",
      "execution_count": 55,
      "metadata": {
        "colab": {
          "base_uri": "https://localhost:8080/"
        },
        "id": "Cf-N87Kvg1kP",
        "outputId": "010415c2-f53b-4001-e1c5-6cdfa24c2ebc"
      },
      "outputs": [
        {
          "output_type": "execute_result",
          "data": {
            "text/plain": [
              "1.0000001"
            ]
          },
          "metadata": {},
          "execution_count": 55
        }
      ],
      "source": [
        "np.sum(out)"
      ]
    },
    {
      "cell_type": "code",
      "execution_count": 56,
      "metadata": {
        "colab": {
          "base_uri": "https://localhost:8080/"
        },
        "id": "ngmLyqjAhuWz",
        "outputId": "56ccfbbb-1427-4096-bc74-4e25d01e121d"
      },
      "outputs": [
        {
          "output_type": "execute_result",
          "data": {
            "text/plain": [
              "0"
            ]
          },
          "metadata": {},
          "execution_count": 56
        }
      ],
      "source": [
        "np.argmax(out)"
      ]
    },
    {
      "cell_type": "code",
      "execution_count": null,
      "metadata": {
        "id": "Nblorx9jhxIY"
      },
      "outputs": [],
      "source": []
    }
  ],
  "metadata": {
    "accelerator": "GPU",
    "colab": {
      "provenance": []
    },
    "kernelspec": {
      "display_name": "Python 3",
      "name": "python3"
    }
  },
  "nbformat": 4,
  "nbformat_minor": 0
}